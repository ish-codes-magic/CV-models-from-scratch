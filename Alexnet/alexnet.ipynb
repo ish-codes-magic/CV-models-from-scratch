{
  "cells": [
    {
      "cell_type": "markdown",
      "id": "97c9b06f",
      "metadata": {
        "id": "97c9b06f"
      },
      "source": [
        "## Alexnet"
      ]
    },
    {
      "cell_type": "markdown",
      "id": "8b2b1231",
      "metadata": {
        "id": "8b2b1231"
      },
      "source": [
        "AlexNet is an Image Classification model that transformed deep learning. It was introduced by Geoffrey Hinton and his team in 2012 and marked a key event in the history of deep learning, showcasing the strengths of CNN architectures and its vast applications."
      ]
    },
    {
      "cell_type": "markdown",
      "id": "80d227f1",
      "metadata": {
        "id": "80d227f1"
      },
      "source": [
        "### Before Alexnet\n"
      ]
    },
    {
      "cell_type": "markdown",
      "id": "a4edd4a6",
      "metadata": {
        "id": "a4edd4a6"
      },
      "source": [
        "Machine learning models such as Support Vector Machines (SVMs) and shallow neural networks dominated computer vision before the development of AlexNet. Training a deep model with millions of parameters seemed impossible, we will investigate why, but first, let’s look into the limitations of the previous Machine Learning (ML) models.\n",
        "\n",
        "* **Feature Engineering**: SVMs and simple Neural Networks (NNs) require extensive handcrafted feature engineering, which makes scaling and generalization impossible.\n",
        "* **Computational Resources**: Before AlexNet, researchers primarily used CPUs to train models because they did not have direct access to GPU processing. This changed when Nvidia released the CUDA API, allowing AI software to access parallel processing using GPUs.\n",
        "* **Vanishing Gradient Problem**: Deep Networks faced a vanishing gradient problem. This is where the gradients become too small during backpropagation or disappear completely.\n",
        "\n",
        "Due to computational limitations, gradient vanishing, and a lack of large datasets to train the model on, most neural networks were shallow. These obstacles made it impossible for the model to generalize."
      ]
    },
    {
      "cell_type": "markdown",
      "id": "cd0eb8d0",
      "metadata": {
        "id": "cd0eb8d0"
      },
      "source": [
        "### Contribution of AlexNet"
      ]
    },
    {
      "cell_type": "markdown",
      "id": "3980554a",
      "metadata": {
        "id": "3980554a"
      },
      "source": [
        "\n",
        "The AlexNet paper titled “ImageNet Classification with Deep Convolutional Neural Networks” solved the above-discussed problems.\n",
        "\n",
        "This paper’s release deeply influenced the trajectory of deep learning. The methods and innovations introduced became a standard for training Deep Neural Networks. Here are the key innovations introduced:\n",
        "\n",
        "* **Deep Architecture**: This model utilized deep architecture compared to any NN model released previously. It consisted of five convolutional layers followed by three fully connected layers.\n",
        "* **ReLU Nonlinearity**: CNNs at that time used functions such as Tanh or Sigmoid to process information between layers. These functions slowed down the training. In contrast, ReLU (Rectified Linear Unit) made the entire process simpler and many times faster. It outputs only if the input is given to it as positive, otherwise, it outputs a zero.\n",
        "* **Overlapping Pooling**: Overlapping pooling is just like regular max pooling layers, but in overlapping pooling, as the window moves across, it overlaps with the previous window. This improved the error percentage in AlexNet.\n",
        "* **Use of GPU**: Before AlexNet, NNs were trained on the CPU, which made the process slow. However, the researcher of AlexNet incorporated GPUs, which accelerated computation time significantly. This proved that Deep NNs can be trained feasibly on GPUs.\n",
        "* **Local Response Normalization (LRN)**: This is a process of normalizing adjacent channels in the network, which normalizes the activity of neurons within a local neighborhood."
      ]
    },
    {
      "cell_type": "markdown",
      "id": "dc6da233",
      "metadata": {
        "id": "dc6da233"
      },
      "source": [
        "### The AlexNet Architecture"
      ]
    },
    {
      "cell_type": "markdown",
      "id": "fd1efdbf",
      "metadata": {
        "id": "fd1efdbf"
      },
      "source": [
        "![Alexnet architecture](./../img/alexNet-architecture.png)"
      ]
    },
    {
      "cell_type": "markdown",
      "id": "69562ac4",
      "metadata": {
        "id": "69562ac4"
      },
      "source": [
        "### Input Layer"
      ]
    },
    {
      "cell_type": "markdown",
      "id": "5110d67c",
      "metadata": {
        "id": "5110d67c"
      },
      "source": [
        "AlexNet takes images of the Input size of 227x227x3 RGB Pixels."
      ]
    },
    {
      "cell_type": "markdown",
      "id": "68d0824b",
      "metadata": {
        "id": "68d0824b"
      },
      "source": [
        "### Convolutional Layers\n",
        "* **First Layer**: The first layer uses 96 kernels of size 11×11 with a stride of 4, activates them with the ReLU activation function, and then performs a Max Pooling operation.\n",
        "* **Second Layer**: The second layer takes the output of the first layer as the input, with 256 kernels of size 5x5x48.\n",
        "* **Third Layer**: 384 kernels of size 3x3x256. No pooling or normalization operations are performed on the third, fourth, and fifth layers.\n",
        "* **Fourth Layer**: 384 kernels of size 3x3x192.\n",
        "* **Fifth Layer**: 256 kernels of size 3x3x192."
      ]
    },
    {
      "cell_type": "markdown",
      "id": "af742031",
      "metadata": {
        "id": "af742031"
      },
      "source": [
        "### Output Layer\n",
        "The output layer is a SoftMax layer that outputs probabilities of the 1000 class labels."
      ]
    },
    {
      "cell_type": "markdown",
      "id": "65c2a98a",
      "metadata": {
        "id": "65c2a98a"
      },
      "source": [
        "### Stochastic Gradient Descent\n",
        "AlexNet uses stochastic gradient descent (SGD) with momentum for optimization.\n",
        "\n",
        "SGD is a variant of the traditional gradient descent algorithm but offers several advantages in terms of efficiency and scalability making it the go-to method for many deep-learning tasks.\n",
        "\n",
        "* In traditional gradient descent, the gradients are computed based on the entire dataset which can be computationally expensive for large datasets.\n",
        "* In Stochastic Gradient Descent, the gradient is calculated for each training example (or a small subset of training examples) rather than the entire dataset.\n",
        "\n",
        "![SGD](./../img/stochastic.webp)"
      ]
    },
    {
      "cell_type": "markdown",
      "id": "44a9a20a",
      "metadata": {
        "id": "44a9a20a"
      },
      "source": [
        "### Momentum\n",
        "Momentum helps accelerate SGD and dampens fluctuations. It performs this by adding a fraction of the previous weight vector to the current weight vector. This prevents sharp updates and helps the model overcome saddle points."
      ]
    },
    {
      "cell_type": "markdown",
      "id": "d2f9e9a9",
      "metadata": {
        "id": "d2f9e9a9"
      },
      "source": [
        "Formally, the weight update rule with momentum can be written as:\n",
        "\n",
        "\n",
        "Δw:=αΔw−η∇Q\n",
        "\n",
        "w:=w+Δw\n",
        "\n",
        "where\n",
        "\n",
        "w represents the parameters,\n",
        "\n",
        "η is the learning rate,\n",
        "\n",
        "α is the momentum coefficient (between 0 and 1), and\n",
        "\n",
        "∇$Q_{i}$(w) is the gradient of the loss for a given sample.\n",
        "\n",
        "The term αΔw carries forward part of the previous update, which helps accelerate movement in consistent directions and reduces oscillations in the optimization trajectory. This concept is analogous to momentum in physics and helps the algorithm avoid getting stuck in local minima and navigate ravines more efficiently.\n",
        "\n",
        "Momentum typically improves convergence speed and can lead to more robust training, especially in deep neural networks. A common choice for the momentum hyperparameter is around 0.9, though it can be tuned depending on the problem."
      ]
    },
    {
      "cell_type": "markdown",
      "id": "1629decc",
      "metadata": {
        "id": "1629decc"
      },
      "source": [
        "### ReLU\n",
        "\n",
        "The paper introduce the ReLU activation function.\n",
        "\n",
        "In simpler terms, ReLU allows positive values to pass through unchanged while setting all negative values to zero. This helps the neural network maintain the necessary complexity to learn patterns while avoiding some of the pitfalls associated with other activation functions, like the vanishing gradient problem.\n",
        "\n",
        "The ReLU function can be described mathematically as follows:\n",
        "\n",
        "f(x)=max(0,x)\n",
        "\n",
        "Where:\n",
        "\n",
        "x is the input to the neuron.\n",
        "\n",
        "The function returns x if x is greater than 0.\n",
        "If x is less than or equal to 0, the function returns 0.\n",
        "\n",
        "\n",
        "This simplicity is what makes ReLU so effective in training deep neural networks, as it helps to maintain non-linearity without complicated transformations, allowing models to learn more efficiently.\n",
        "\n",
        "If we plot the graph of ReLU activation function, it will appear like this:\n",
        "\n",
        "![Relu](./../img/Relu-activation-function.png)"
      ]
    },
    {
      "cell_type": "markdown",
      "id": "d6148eaf",
      "metadata": {
        "id": "d6148eaf"
      },
      "source": [
        "### Dropout layers\n",
        "\n",
        "Dropout is a technique to improve the overfitting problem of Neural Network that was introduced in the paper.\n",
        "\n",
        "The term \"dropout\" refers to dropping out the nodes (input and hidden layer) in a neural network. All the forward and backwards connections with a dropped node are temporarily removed, thus creating a new network architecture out of the parent network. The nodes are dropped by a dropout probability of p.\n",
        "\n",
        "In the overfitting problem, the model learns the statistical noise. To be precise, the main motive of training is to decrease the loss function, given all the units (neurons). So in overfitting, a unit may change in a way that fixes up the mistakes of the other units. This leads to complex co-adaptations, which in turn leads to the overfitting problem because this complex co-adaptation fails to generalise on the unseen dataset.\n",
        "\n",
        "Now, if we use dropout, it prevents these units to fix up the mistake of other units, thus preventing co-adaptation, as in every iteration the presence of a unit is highly unreliable. So by randomly dropping a few units (nodes), it forces the layers to take more or less responsibility for the input by taking a probabilistic approach.\n",
        "\n",
        "This ensures that the model is getting generalised and hence reducing the overfitting problem.\n",
        "\n",
        "![droput](./../img/dropout.png)"
      ]
    },
    {
      "cell_type": "markdown",
      "id": "8e214252",
      "metadata": {
        "id": "8e214252"
      },
      "source": [
        "### Dataset"
      ]
    },
    {
      "cell_type": "markdown",
      "id": "d31f5737",
      "metadata": {
        "id": "d31f5737"
      },
      "source": [
        "We will be using the CIFAR-10 dataset. The dataset consists of 60000 32x32 colour images in 10 classes, with 6000 images per class. There are 50000 training images and 10000 test images.\n",
        "\n",
        "Here are the classes in the dataset, as well as 10 random sample images from each:\n",
        "\n",
        "![cifar10](./../img/CIFAR-10.png)\n",
        "\n",
        "The classes are completely mutually exclusive, with no overlap between automobiles and trucks. “Automobile” encompasses sedans, SUVs, and similar vehicles, while “Truck” refers solely to large trucks, excluding pickup trucks."
      ]
    },
    {
      "cell_type": "markdown",
      "id": "3573b9e6",
      "metadata": {
        "id": "3573b9e6"
      },
      "source": [
        "### Importing the Libraries"
      ]
    },
    {
      "cell_type": "code",
      "source": [
        "!pip install -U \"plotly>=5.24.0\" \"kaleido>=1.0.0\""
      ],
      "metadata": {
        "colab": {
          "base_uri": "https://localhost:8080/"
        },
        "id": "ytXZknH056V7",
        "outputId": "1e19c428-7304-43d7-ec0e-eab0ee179aff"
      },
      "id": "ytXZknH056V7",
      "execution_count": 19,
      "outputs": [
        {
          "output_type": "stream",
          "name": "stdout",
          "text": [
            "Requirement already satisfied: plotly>=5.24.0 in /usr/local/lib/python3.12/dist-packages (6.3.1)\n",
            "Requirement already satisfied: kaleido>=1.0.0 in /usr/local/lib/python3.12/dist-packages (1.1.0)\n",
            "Requirement already satisfied: narwhals>=1.15.1 in /usr/local/lib/python3.12/dist-packages (from plotly>=5.24.0) (2.6.0)\n",
            "Requirement already satisfied: packaging in /usr/local/lib/python3.12/dist-packages (from plotly>=5.24.0) (25.0)\n",
            "Requirement already satisfied: choreographer>=1.0.10 in /usr/local/lib/python3.12/dist-packages (from kaleido>=1.0.0) (1.1.1)\n",
            "Requirement already satisfied: logistro>=1.0.8 in /usr/local/lib/python3.12/dist-packages (from kaleido>=1.0.0) (1.1.0)\n",
            "Requirement already satisfied: orjson>=3.10.15 in /usr/local/lib/python3.12/dist-packages (from kaleido>=1.0.0) (3.11.3)\n",
            "Requirement already satisfied: pytest-timeout>=2.4.0 in /usr/local/lib/python3.12/dist-packages (from kaleido>=1.0.0) (2.4.0)\n",
            "Requirement already satisfied: simplejson>=3.19.3 in /usr/local/lib/python3.12/dist-packages (from choreographer>=1.0.10->kaleido>=1.0.0) (3.20.2)\n",
            "Requirement already satisfied: pytest>=7.0.0 in /usr/local/lib/python3.12/dist-packages (from pytest-timeout>=2.4.0->kaleido>=1.0.0) (8.4.2)\n",
            "Requirement already satisfied: iniconfig>=1 in /usr/local/lib/python3.12/dist-packages (from pytest>=7.0.0->pytest-timeout>=2.4.0->kaleido>=1.0.0) (2.1.0)\n",
            "Requirement already satisfied: pluggy<2,>=1.5 in /usr/local/lib/python3.12/dist-packages (from pytest>=7.0.0->pytest-timeout>=2.4.0->kaleido>=1.0.0) (1.6.0)\n",
            "Requirement already satisfied: pygments>=2.7.2 in /usr/local/lib/python3.12/dist-packages (from pytest>=7.0.0->pytest-timeout>=2.4.0->kaleido>=1.0.0) (2.19.2)\n"
          ]
        }
      ]
    },
    {
      "cell_type": "code",
      "source": [
        "import kaleido\n",
        "# This downloads/installs a headless Chrome that Kaleido will use.\n",
        "kaleido.get_chrome_sync()\n",
        "print(\"Chrome for Kaleido is installed.\")"
      ],
      "metadata": {
        "colab": {
          "base_uri": "https://localhost:8080/"
        },
        "id": "28NHQD39GQzJ",
        "outputId": "4732517e-4141-46c9-8060-c940bf67b369"
      },
      "id": "28NHQD39GQzJ",
      "execution_count": 20,
      "outputs": [
        {
          "output_type": "stream",
          "name": "stdout",
          "text": [
            "Chrome for Kaleido is installed.\n"
          ]
        }
      ]
    },
    {
      "cell_type": "code",
      "execution_count": 22,
      "id": "7515888e",
      "metadata": {
        "colab": {
          "base_uri": "https://localhost:8080/"
        },
        "id": "7515888e",
        "outputId": "ea4017fa-9cfe-4b4f-c16d-5fe11f278fee"
      },
      "outputs": [
        {
          "output_type": "stream",
          "name": "stdout",
          "text": [
            "Device: cuda\n"
          ]
        }
      ],
      "source": [
        "import numpy as np\n",
        "import torch\n",
        "import torch.nn as nn\n",
        "from torchvision import datasets\n",
        "from torchvision import transforms\n",
        "from torch.utils.data.sampler import SubsetRandomSampler\n",
        "import torchvision.transforms.functional as F\n",
        "from PIL import Image\n",
        "import matplotlib.pyplot as plt\n",
        "from torch.utils.tensorboard import SummaryWriter\n",
        "import plotly.graph_objects as go\n",
        "import plotly.express as px\n",
        "from plotly.subplots import make_subplots\n",
        "import time\n",
        "from sklearn.metrics import confusion_matrix, classification_report\n",
        "import seaborn as sns\n",
        "import os\n",
        "from datetime import datetime\n",
        "import io\n",
        "\n",
        "# Device configuration\n",
        "device = torch.device('cuda' if torch.cuda.is_available() else 'cpu')\n",
        "print(f\"Device: {device}\")"
      ]
    },
    {
      "cell_type": "markdown",
      "id": "1820424d",
      "metadata": {
        "id": "1820424d"
      },
      "source": [
        "### Loading the dataset"
      ]
    },
    {
      "cell_type": "code",
      "execution_count": 3,
      "id": "a6b57869",
      "metadata": {
        "id": "a6b57869"
      },
      "outputs": [],
      "source": [
        "data_dir = './data'\n",
        "batch_size = 64\n",
        "random_seed = 42\n"
      ]
    },
    {
      "cell_type": "markdown",
      "id": "a95abb4d",
      "metadata": {
        "id": "a95abb4d"
      },
      "source": [
        "### Transforming the data\n",
        "\n",
        "We first transform the data according to the Alexnet in the following steps:\n",
        "\n",
        "* `Resize` - resizes images to 227×227\n",
        "* `ToTensor` converts a PIL image in [0,255] to a tensor in [0,1] (C×H×W)\n",
        "* `Normalize`: shifts pixel intensities channel-wise using (x - mean) / std.\n",
        "\n",
        "We get the mean and std values of the train and std data directly from the CIFAR-10 data which is well known, so we use those values directly, otherwise you can also calculate the mean and std of the entire train and test dataset and apply the normalise function directly on it."
      ]
    },
    {
      "cell_type": "code",
      "execution_count": 4,
      "id": "c6acd799",
      "metadata": {
        "id": "c6acd799"
      },
      "outputs": [],
      "source": [
        "mean = [0.4914, 0.4822, 0.4465]\n",
        "std  = [0.2023, 0.1994, 0.2010]\n",
        "transform = transforms.Compose([\n",
        "    transforms.Resize((227,227)),\n",
        "    transforms.ToTensor(),\n",
        "    transforms.Normalize(mean, std),\n",
        "])\n"
      ]
    },
    {
      "cell_type": "markdown",
      "id": "4f705196",
      "metadata": {
        "id": "4f705196"
      },
      "source": [
        "This transform will convert the raw PIL image which is in numpy array to standardise to 227×227×3 arrays which are then converted to Tensors and normalised to be [0,1] range values."
      ]
    },
    {
      "cell_type": "markdown",
      "id": "8149447d",
      "metadata": {
        "id": "8149447d"
      },
      "source": [
        "Let's see, how the transforms happen one by one. First we will load the raw dataset."
      ]
    },
    {
      "cell_type": "code",
      "execution_count": null,
      "id": "151220a6",
      "metadata": {
        "id": "151220a6"
      },
      "outputs": [],
      "source": [
        "raw_dataset = datasets.CIFAR10(\n",
        "    root=data_dir, train=True,\n",
        "    download=True, transform=None,\n",
        ")"
      ]
    },
    {
      "cell_type": "markdown",
      "id": "b30965b7",
      "metadata": {
        "id": "b30965b7"
      },
      "source": [
        "Now, we inspect one image."
      ]
    },
    {
      "cell_type": "code",
      "execution_count": null,
      "id": "5e1d6154",
      "metadata": {
        "id": "5e1d6154"
      },
      "outputs": [],
      "source": [
        "pil_img, label = raw_dataset[0]"
      ]
    },
    {
      "cell_type": "code",
      "execution_count": null,
      "id": "5eca83d9",
      "metadata": {
        "id": "5eca83d9",
        "outputId": "8267fc86-1ef4-4d07-83c0-a758e68ed062"
      },
      "outputs": [
        {
          "data": {
            "image/png": "[encoded data removed]",
            "text/plain": [
              "<Figure size 300x300 with 1 Axes>"
            ]
          },
          "metadata": {},
          "output_type": "display_data"
        }
      ],
      "source": [
        "plt.figure(figsize=(3,3))\n",
        "plt.imshow(pil_img)\n",
        "plt.title(\"Raw PIL image\")\n",
        "plt.axis('off')\n",
        "plt.show()"
      ]
    },
    {
      "cell_type": "markdown",
      "id": "64885be4",
      "metadata": {
        "id": "64885be4"
      },
      "source": [
        "As we can see below the PIL image is 32×32 with 3 channels and each value in the tensor is uint8."
      ]
    },
    {
      "cell_type": "code",
      "execution_count": null,
      "id": "6ac80c2a",
      "metadata": {
        "id": "6ac80c2a",
        "outputId": "3cb11294-ac0d-4158-c9ac-547f45e0d8ca"
      },
      "outputs": [
        {
          "name": "stdout",
          "output_type": "stream",
          "text": [
            "Mode/size: RGB (32, 32)\n",
            "Raw array dtype: uint8 shape: (32, 32, 3)\n"
          ]
        }
      ],
      "source": [
        "print(\"Mode/size:\", pil_img.mode, pil_img.size)\n",
        "raw_np = np.array(pil_img)  # H x W x C, uint8\n",
        "print(\"Raw array dtype:\", raw_np.dtype, \"shape:\", raw_np.shape)\n"
      ]
    },
    {
      "cell_type": "markdown",
      "id": "c7bc4632",
      "metadata": {
        "id": "c7bc4632"
      },
      "source": [
        "After applying the first transform the 32×32 with 3 channel PIL image gets converted into 227×227 with 3 channels."
      ]
    },
    {
      "cell_type": "code",
      "execution_count": null,
      "id": "4ec7793a",
      "metadata": {
        "id": "4ec7793a",
        "outputId": "46519f4d-c0b0-4edd-e976-e5e136258e04"
      },
      "outputs": [
        {
          "name": "stdout",
          "output_type": "stream",
          "text": [
            "Transformed: Resize(size=(227, 227), interpolation=bilinear, max_size=None, antialias=True)\n"
          ]
        }
      ],
      "source": [
        "transformed = transform.transforms[0]\n",
        "print(\"Transformed:\", transformed)"
      ]
    },
    {
      "cell_type": "code",
      "execution_count": null,
      "id": "a6f4e75e",
      "metadata": {
        "id": "a6f4e75e"
      },
      "outputs": [],
      "source": [
        "resized_img = F.resize(pil_img, transformed.size, interpolation=transformed.interpolation, max_size=transformed.max_size, antialias=transformed.antialias)"
      ]
    },
    {
      "cell_type": "code",
      "execution_count": null,
      "id": "184a28fb",
      "metadata": {
        "id": "184a28fb",
        "outputId": "d2df98ce-d82b-457e-f93a-0e100e1300c5"
      },
      "outputs": [
        {
          "name": "stdout",
          "output_type": "stream",
          "text": [
            "Type: PIL.Image, dtype: uint8 shape: (227, 227, 3)\n"
          ]
        }
      ],
      "source": [
        "np_resized = np.array(resized_img)\n",
        "print(\"Type: PIL.Image, dtype:\", np_resized.dtype, \"shape:\", np_resized.shape)"
      ]
    },
    {
      "cell_type": "markdown",
      "id": "37462484",
      "metadata": {
        "id": "37462484"
      },
      "source": [
        "After this we convert into the tensor format which converts in into 3×227×227 tensors."
      ]
    },
    {
      "cell_type": "code",
      "execution_count": null,
      "id": "448ae679",
      "metadata": {
        "id": "448ae679"
      },
      "outputs": [],
      "source": [
        "tensor_img = F.to_tensor(resized_img)"
      ]
    },
    {
      "cell_type": "code",
      "execution_count": null,
      "id": "8df30985",
      "metadata": {
        "id": "8df30985",
        "outputId": "4a68441b-0337-437f-806a-9e9a0c03c12e"
      },
      "outputs": [
        {
          "name": "stdout",
          "output_type": "stream",
          "text": [
            "Type: torch.Tensor, dtype: torch.float32 shape: (3, 227, 227)\n"
          ]
        }
      ],
      "source": [
        "print(\"Type: torch.Tensor, dtype:\", tensor_img.dtype, \"shape:\", tuple(tensor_img.shape))"
      ]
    },
    {
      "cell_type": "code",
      "execution_count": null,
      "id": "d3c07ba9",
      "metadata": {
        "id": "d3c07ba9",
        "outputId": "7324e44a-c3f3-4baa-defd-fdf395f3ae38"
      },
      "outputs": [
        {
          "name": "stdout",
          "output_type": "stream",
          "text": [
            "Transformed: Normalize(mean=[0.4914, 0.4822, 0.4465], std=[0.2023, 0.1994, 0.201])\n"
          ]
        }
      ],
      "source": [
        "transformed = transform.transforms[2]\n",
        "print(\"Transformed:\", transformed)"
      ]
    },
    {
      "cell_type": "code",
      "execution_count": null,
      "id": "7dc3affa",
      "metadata": {
        "id": "7dc3affa"
      },
      "outputs": [],
      "source": [
        "final_tensor = F.normalize(tensor_img, mean=transformed.mean, std=transformed.std)"
      ]
    },
    {
      "cell_type": "code",
      "execution_count": null,
      "id": "79b465e7",
      "metadata": {
        "id": "79b465e7",
        "outputId": "be9a0f74-52f2-4af2-d1ed-08680b2d417a"
      },
      "outputs": [
        {
          "name": "stdout",
          "output_type": "stream",
          "text": [
            "Type: torch.Tensor, dtype: torch.float32 shape: (3, 227, 227)\n"
          ]
        }
      ],
      "source": [
        "print(\"Type: torch.Tensor, dtype:\", final_tensor.dtype, \"shape:\", tuple(final_tensor.shape))"
      ]
    },
    {
      "cell_type": "markdown",
      "id": "9f2c1b89",
      "metadata": {
        "id": "9f2c1b89"
      },
      "source": [
        "We can wrap this entire transform as well as splitting the training data into train and validation set into 2 functions and load the data directly in the format."
      ]
    },
    {
      "cell_type": "code",
      "execution_count": 5,
      "id": "6c660084",
      "metadata": {
        "id": "6c660084"
      },
      "outputs": [],
      "source": [
        "def get_train_valid_loader(data_dir,\n",
        "                            batch_size,\n",
        "                            random_seed,\n",
        "                            valid_size=0.1,\n",
        "                            shuffle=True):\n",
        "    normalize = transforms.Normalize(\n",
        "        mean=[0.4914, 0.4822, 0.4465],\n",
        "        std=[0.2023, 0.1994, 0.2010],\n",
        "    )\n",
        "\n",
        "    # define transforms\n",
        "    transform = transforms.Compose([\n",
        "            transforms.Resize((227,227)),\n",
        "            transforms.ToTensor(),\n",
        "            normalize,\n",
        "    ])\n",
        "\n",
        "    # load the dataset\n",
        "    train_dataset = datasets.CIFAR10(\n",
        "        root=data_dir, train=True,\n",
        "        download=True, transform=transform,\n",
        "    )\n",
        "\n",
        "    valid_dataset = datasets.CIFAR10(\n",
        "        root=data_dir, train=True,\n",
        "        download=True, transform=transform,\n",
        "    )\n",
        "\n",
        "    num_train = len(train_dataset)\n",
        "    indices = list(range(num_train))\n",
        "    split = int(np.floor(valid_size * num_train))\n",
        "\n",
        "    if shuffle:\n",
        "        np.random.seed(random_seed)\n",
        "        np.random.shuffle(indices)\n",
        "\n",
        "    train_idx, valid_idx = indices[split:], indices[:split]\n",
        "    train_sampler = SubsetRandomSampler(train_idx)\n",
        "    valid_sampler = SubsetRandomSampler(valid_idx)\n",
        "\n",
        "    train_loader = torch.utils.data.DataLoader(\n",
        "        train_dataset, batch_size=batch_size, sampler=train_sampler)\n",
        "\n",
        "    valid_loader = torch.utils.data.DataLoader(\n",
        "        valid_dataset, batch_size=batch_size, sampler=valid_sampler)\n",
        "\n",
        "    return (train_loader, valid_loader)\n",
        "\n",
        "\n",
        "def get_test_loader(data_dir,\n",
        "                    batch_size,\n",
        "                    shuffle=True):\n",
        "    normalize = transforms.Normalize(\n",
        "        mean=[0.485, 0.456, 0.406],\n",
        "        std=[0.229, 0.224, 0.225],\n",
        "    )\n",
        "\n",
        "    # define transform\n",
        "    transform = transforms.Compose([\n",
        "        transforms.Resize((227,227)),\n",
        "        transforms.ToTensor(),\n",
        "        normalize,\n",
        "    ])\n",
        "\n",
        "    dataset = datasets.CIFAR10(\n",
        "        root=data_dir, train=False,\n",
        "        download=True, transform=transform,\n",
        "    )\n",
        "\n",
        "    data_loader = torch.utils.data.DataLoader(\n",
        "        dataset, batch_size=batch_size, shuffle=shuffle\n",
        "    )\n",
        "\n",
        "    return data_loader\n",
        "\n"
      ]
    },
    {
      "cell_type": "code",
      "execution_count": 6,
      "id": "c65aa329",
      "metadata": {
        "id": "c65aa329"
      },
      "outputs": [],
      "source": [
        "# CIFAR10 dataset\n",
        "train_loader, valid_loader = get_train_valid_loader(data_dir = './data',batch_size = 64,random_seed = 1)\n",
        "\n",
        "test_loader = get_test_loader(data_dir = './data',\n",
        "                                batch_size = 64)"
      ]
    },
    {
      "cell_type": "markdown",
      "id": "c6bd5d9d",
      "metadata": {
        "id": "c6bd5d9d"
      },
      "source": [
        "## Implementing Alexnet"
      ]
    },
    {
      "cell_type": "markdown",
      "id": "f14b2fb5",
      "metadata": {
        "id": "f14b2fb5"
      },
      "source": [
        "Note:\n",
        "\n",
        "Useful formula for conv/pool output size per spatial dimension:\n",
        "\n",
        "\n",
        "out=⌊in+2p−k/s⌋+1\n",
        "\n",
        "where\n",
        "k=kernel,\n",
        "s=stride,\n",
        "p=padding."
      ]
    },
    {
      "cell_type": "code",
      "execution_count": 7,
      "id": "7ab958e7",
      "metadata": {
        "id": "7ab958e7"
      },
      "outputs": [],
      "source": [
        "# ----- Layer 1 -----\n",
        "layer_1 = nn.Sequential(\n",
        "    nn.Conv2d(in_channels=3, out_channels=96, kernel_size=11, stride=4, padding=0),\n",
        "    nn.BatchNorm2d(96),\n",
        "    nn.ReLU(inplace=False),\n",
        "    nn.MaxPool2d(kernel_size=3, stride=2)\n",
        ")"
      ]
    },
    {
      "cell_type": "markdown",
      "id": "c280f49a",
      "metadata": {
        "id": "c280f49a"
      },
      "source": [
        "What Layer 1 does (Conv11 / s4 + BN + ReLU + Pool):\n",
        "\n",
        "Conv2d(3→96, k=11, s=4, p=0) on (N,3,227,227) → spatial:\n",
        "(227−11)/4+1=216/4+1=54+1=55 ⇒ (N, 96, 55, 55)\n",
        "\n",
        "BatchNorm2d(96): per-channel affine normalization; stabilizes training (modern replacement for AlexNet’s LRN).\n",
        "\n",
        "ReLU: nonlinearity.\n",
        "\n",
        "MaxPool2d(k=3, s=2):\n",
        "(55−3)/2+1=52/2+1=26+1=27 ⇒ (N, 96, 27, 27)\n",
        "\n",
        "Params (trainable):\n",
        "\n",
        "Conv:\n",
        "96×(3×11×11)+96 = 96×363+96= 34,944\n",
        "\n",
        "BN:\n",
        "2×96=192 (γ & β; running stats are buffers)"
      ]
    },
    {
      "cell_type": "code",
      "execution_count": 8,
      "id": "6136fc00",
      "metadata": {
        "id": "6136fc00"
      },
      "outputs": [],
      "source": [
        "# ----- Layer 2 -----\n",
        "layer_2 = nn.Sequential(\n",
        "    nn.Conv2d(96, 256, kernel_size=5, stride=1, padding=2),\n",
        "    nn.BatchNorm2d(256),\n",
        "    nn.ReLU(inplace=False),\n",
        "    nn.MaxPool2d(kernel_size=3, stride=2)\n",
        ")\n"
      ]
    },
    {
      "cell_type": "markdown",
      "id": "6cbfa146",
      "metadata": {
        "id": "6cbfa146"
      },
      "source": [
        "What Layer 2 does (Conv5 / s1 p2 + BN + ReLU + Pool):\n",
        "\n",
        "Input: (N, 96, 27, 27)\n",
        "\n",
        "Conv2d(96→256, k=5, s=1, p=2) keeps size: (N, 256, 27, 27)\n",
        "\n",
        "MaxPool2d(k=3, s=2): (27−3)/2+1=24/2+1=12+1=13 ⇒ (N, 256, 13, 13)\n",
        "\n",
        "Params:\n",
        "\n",
        "Conv: 256×(96×5×5)+256=256×2400+256=614,656\n",
        "\n",
        "BN: 2×256=512"
      ]
    },
    {
      "cell_type": "code",
      "execution_count": 9,
      "id": "5b17e57e",
      "metadata": {
        "id": "5b17e57e"
      },
      "outputs": [],
      "source": [
        "# ----- Layer 3 -----\n",
        "layer_3 = nn.Sequential(\n",
        "    nn.Conv2d(256, 384, kernel_size=3, stride=1, padding=1),\n",
        "    nn.BatchNorm2d(384),\n",
        "    nn.ReLU(inplace=False)\n",
        ")\n"
      ]
    },
    {
      "cell_type": "markdown",
      "id": "b4a4901c",
      "metadata": {
        "id": "b4a4901c"
      },
      "source": [
        "What Layer 3 does (Conv3 / s1 p1 + BN + ReLU):\n",
        "\n",
        "Input: (N, 256, 13, 13)\n",
        "\n",
        "Conv2d(256→384, k=3, s=1, p=1) keeps size: (N, 384, 13, 13)\n",
        "\n",
        "Params:\n",
        "\n",
        "Conv: 384×(256×3×3)+384=384×2304+384=885,120\n",
        "\n",
        "BN: 2×384=768"
      ]
    },
    {
      "cell_type": "code",
      "execution_count": 10,
      "id": "528f9763",
      "metadata": {
        "id": "528f9763"
      },
      "outputs": [],
      "source": [
        "# ----- Layer 4 -----\n",
        "layer_4 = nn.Sequential(\n",
        "    nn.Conv2d(384, 384, kernel_size=3, stride=1, padding=1),\n",
        "    nn.BatchNorm2d(384),\n",
        "    nn.ReLU(inplace=False)\n",
        ")\n"
      ]
    },
    {
      "cell_type": "markdown",
      "id": "d4bb123e",
      "metadata": {
        "id": "d4bb123e"
      },
      "source": [
        "What Layer 4 does (another Conv3 / s1 p1 + BN + ReLU):\n",
        "\n",
        "Input: (N, 384, 13, 13)\n",
        "\n",
        "Output: (N, 384, 13, 13)\n",
        "\n",
        "Params:\n",
        "\n",
        "Conv: 384×(384×3×3)+384=1,327,488\n",
        "\n",
        "BN: 2×384=768"
      ]
    },
    {
      "cell_type": "code",
      "execution_count": 11,
      "id": "88a81eb0",
      "metadata": {
        "id": "88a81eb0"
      },
      "outputs": [],
      "source": [
        "# ----- Layer 5 -----\n",
        "layer_5 = nn.Sequential(\n",
        "    nn.Conv2d(384, 256, kernel_size=3, stride=1, padding=1),\n",
        "    nn.BatchNorm2d(256),\n",
        "    nn.ReLU(inplace=False),\n",
        "    nn.MaxPool2d(kernel_size=3, stride=2)\n",
        ")\n"
      ]
    },
    {
      "cell_type": "markdown",
      "id": "5ab39597",
      "metadata": {
        "id": "5ab39597"
      },
      "source": [
        "What Layer 5 does (Conv3 / s1 p1 + BN + ReLU + Pool):\n",
        "\n",
        "Input: (N, 384, 13, 13)\n",
        "\n",
        "Conv2d(384→256, k=3, s=1, p=1) keeps size: (N, 256, 13, 13)\n",
        "\n",
        "MaxPool2d(k=3, s=2): (13−3)/2+1=10/2+1=5+1=6 ⇒ (N, 256, 6, 6)\n",
        "\n",
        "Params:\n",
        "\n",
        "Conv: 256×(384×3×3)+256=884,992\n",
        "\n",
        "BN: 2×256=512\n",
        "\n",
        "Flatten size after Layer 5 = 256×6×6=9216."
      ]
    },
    {
      "cell_type": "code",
      "execution_count": 12,
      "id": "5aef136f",
      "metadata": {
        "id": "5aef136f"
      },
      "outputs": [],
      "source": [
        "# ----- FC block A -----\n",
        "fc_a = nn.Sequential(\n",
        "    nn.Dropout(p=0.5),\n",
        "    nn.Linear(in_features=9216, out_features=4096),\n",
        "    nn.ReLU(inplace=False)\n",
        ")\n"
      ]
    },
    {
      "cell_type": "markdown",
      "id": "ee7bc1a4",
      "metadata": {
        "id": "ee7bc1a4"
      },
      "source": [
        "What FC A does (Dropout + Linear 9216→4096 + ReLU):\n",
        "\n",
        "Input: (N, 9216) after flatten\n",
        "\n",
        "Dropout(0.5): regularization, randomly zeroes ~50% activations during training\n",
        "\n",
        "Linear: (N, 4096)\n",
        "\n",
        "Params: 9216×4096+4096=37,752,832"
      ]
    },
    {
      "cell_type": "code",
      "execution_count": 13,
      "id": "28213a5a",
      "metadata": {
        "id": "28213a5a"
      },
      "outputs": [],
      "source": [
        "# ----- FC block B -----\n",
        "fc_b = nn.Sequential(\n",
        "    nn.Dropout(p=0.5),\n",
        "    nn.Linear(4096, 4096),\n",
        "    nn.ReLU(inplace=False)\n",
        ")\n"
      ]
    },
    {
      "cell_type": "markdown",
      "id": "cf353b4d",
      "metadata": {
        "id": "cf353b4d"
      },
      "source": [
        "What FC B does (Dropout + Linear 4096→4096 + ReLU):\n",
        "\n",
        "Input/Output: (N, 4096)\n",
        "\n",
        "Params: 4096×4096+4096=16,781,312"
      ]
    },
    {
      "cell_type": "code",
      "execution_count": 14,
      "id": "50da2607",
      "metadata": {
        "id": "50da2607"
      },
      "outputs": [],
      "source": [
        "# ----- Classifier -----\n",
        "fc_classifier = nn.Sequential(\n",
        "    nn.Linear(4096, 10)  # num_classes\n",
        ")\n"
      ]
    },
    {
      "cell_type": "markdown",
      "id": "e61e336d",
      "metadata": {
        "id": "e61e336d"
      },
      "source": [
        "What the classifier does (Linear 4096→10):\n",
        "\n",
        "Output: (N, 10) logits (for CIFAR-10)\n",
        "\n",
        "Params: 4096×10+10=40,970"
      ]
    },
    {
      "cell_type": "markdown",
      "id": "0dc2b800",
      "metadata": {
        "id": "0dc2b800"
      },
      "source": [
        "### Putting them together"
      ]
    },
    {
      "cell_type": "code",
      "execution_count": 15,
      "id": "9dfa869c",
      "metadata": {
        "id": "9dfa869c"
      },
      "outputs": [],
      "source": [
        "class AlexNet(nn.Module):\n",
        "    def __init__(self, num_classes=10):\n",
        "        super(AlexNet, self).__init__()\n",
        "\n",
        "        # Convolutional feature extractor\n",
        "        self.layer1 = layer_1\n",
        "        self.layer2 = layer_2\n",
        "        self.layer3 = layer_3\n",
        "        self.layer4 = layer_4\n",
        "        self.layer5 = layer_5\n",
        "\n",
        "        # Fully-connected classifier head\n",
        "        # Note: change the out_features of the final layer if num_classes differs\n",
        "        self.fc  = fc_a\n",
        "        self.fc1 = fc_b\n",
        "        # replace last linear to match num_classes if needed\n",
        "        self.fc2 = nn.Sequential(nn.Linear(4096, num_classes))\n",
        "\n",
        "    def forward(self, x):\n",
        "        # x: (N, 3, 227, 227)\n",
        "        out = self.layer1(x)  # -> (N, 96, 27, 27)\n",
        "        out = self.layer2(out)  # -> (N, 256, 13, 13)\n",
        "        out = self.layer3(out)  # -> (N, 384, 13, 13)\n",
        "        out = self.layer4(out)  # -> (N, 384, 13, 13)\n",
        "        out = self.layer5(out)  # -> (N, 256, 6, 6)\n",
        "\n",
        "        # Flatten\n",
        "        out = out.reshape(out.size(0), -1)  # -> (N, 9216)\n",
        "\n",
        "        # FC head\n",
        "        out = self.fc(out)   # -> (N, 4096)\n",
        "        out = self.fc1(out)  # -> (N, 4096)\n",
        "        out = self.fc2(out)  # -> (N, num_classes)\n",
        "\n",
        "        return out\n"
      ]
    },
    {
      "cell_type": "markdown",
      "id": "92e9df2c",
      "metadata": {
        "id": "92e9df2c"
      },
      "source": [
        "Differences from the original Alexnet Implementation:\n",
        "\n",
        "* **BatchNorm instead of LRN**\n",
        "AlexNet used Local Response Normalization (LRN). Modern practice uses BatchNorm, which usually works better and simplifies tuning.\n",
        "\n",
        "* **No group convolutions**\n",
        "Original AlexNet split some conv layers across two GPUs using “groups”. This model uses standard (ungrouped) convs.\n",
        "\n",
        "* **Input resolution**\n",
        "AlexNet’s canonical training used 227×227 (sometimes 224×224 in modern code—both fine with adjusted first conv). Your design expects 227×227 so that the flatten size becomes exactly 9216.\n",
        "\n",
        "* **Framework conveniences**\n",
        "PyTorch nn.Sequential makes the pipeline concise; ReLUs are standard; inplace not required here."
      ]
    },
    {
      "cell_type": "markdown",
      "id": "0bddbe35",
      "metadata": {
        "id": "0bddbe35"
      },
      "source": [
        "### Setting up hyperparameters"
      ]
    },
    {
      "cell_type": "code",
      "execution_count": 29,
      "id": "cd5d71a8",
      "metadata": {
        "id": "cd5d71a8"
      },
      "outputs": [],
      "source": [
        "num_classes = 10\n",
        "num_epochs = 50\n",
        "batch_size = 64\n",
        "learning_rate = 0.005\n",
        "total_param = 623786344\n",
        "\n",
        "model = AlexNet(num_classes).to(device)\n",
        "\n",
        "# Loss and optimizer\n",
        "criterion = nn.CrossEntropyLoss()\n",
        "optimizer = torch.optim.SGD(model.parameters(), lr=learning_rate, weight_decay = 0.005, momentum = 0.9)\n",
        "\n",
        "# Train the model\n",
        "total_step = len(train_loader)"
      ]
    },
    {
      "cell_type": "code",
      "execution_count": 30,
      "id": "1e12b541",
      "metadata": {
        "colab": {
          "base_uri": "https://localhost:8080/"
        },
        "id": "1e12b541",
        "outputId": "e0f6566e-f5cc-4ff1-a6f3-c0519c74fbc8"
      },
      "outputs": [
        {
          "output_type": "stream",
          "name": "stdout",
          "text": [
            "TensorBoard logs will be saved to: runs/alexnet_cifar10_20251005_174830\n",
            "To view TensorBoard, run: tensorboard --logdir=runs\n"
          ]
        }
      ],
      "source": [
        "# Create TensorBoard log directory\n",
        "log_dir = f\"runs/alexnet_cifar10_{datetime.now().strftime('%Y%m%d_%H%M%S')}\"\n",
        "writer = SummaryWriter(log_dir=log_dir)\n",
        "\n",
        "# Metrics storage for Plotly visualizations\n",
        "training_metrics = {\n",
        "    'epoch': [],\n",
        "    'train_loss': [],\n",
        "    'train_acc': [],\n",
        "    'val_loss': [],\n",
        "    'val_acc': [],\n",
        "    'learning_rate': [],\n",
        "    'epoch_time': [],\n",
        "    'gradient_norm': [],\n",
        "    'weight_norm': []\n",
        "}\n",
        "\n",
        "# Class names for CIFAR-10\n",
        "class_names = ['airplane', 'automobile', 'bird', 'cat', 'deer',\n",
        "               'dog', 'frog', 'horse', 'ship', 'truck']\n",
        "\n",
        "def calculate_accuracy(outputs, labels):\n",
        "    \"\"\"Calculate accuracy from outputs and labels\"\"\"\n",
        "    _, predicted = torch.max(outputs.data, 1)\n",
        "    correct = (predicted == labels).sum().item()\n",
        "    return correct / labels.size(0)\n",
        "\n",
        "def get_gradient_norm(model):\n",
        "    \"\"\"Calculate the norm of gradients\"\"\"\n",
        "    total_norm = 0\n",
        "    for p in model.parameters():\n",
        "        if p.grad is not None:\n",
        "            param_norm = p.grad.data.norm(2)\n",
        "            total_norm += param_norm.item() ** 2\n",
        "    return total_norm ** (1. / 2)\n",
        "\n",
        "def get_weight_norm(model):\n",
        "    \"\"\"Calculate the norm of weights\"\"\"\n",
        "    total_norm = 0\n",
        "    for p in model.parameters():\n",
        "        param_norm = p.data.norm(2)\n",
        "        total_norm += param_norm.item() ** 2\n",
        "    return total_norm ** (1. / 2)\n",
        "\n",
        "print(f\"TensorBoard logs will be saved to: {log_dir}\")\n",
        "print(\"To view TensorBoard, run: tensorboard --logdir=runs\")"
      ]
    },
    {
      "cell_type": "code",
      "execution_count": null,
      "id": "dfb66d76",
      "metadata": {
        "colab": {
          "base_uri": "https://localhost:8080/"
        },
        "id": "dfb66d76",
        "outputId": "21b0447b-2825-4587-cc7f-bd22d86cc8e3"
      },
      "outputs": [
        {
          "output_type": "stream",
          "name": "stdout",
          "text": [
            "Epoch [1/50], Step [100/704], Loss: 0.1317, Acc: 0.9688\n",
            "Epoch [1/50], Step [200/704], Loss: 0.2279, Acc: 0.9219\n",
            "Epoch [1/50], Step [300/704], Loss: 0.3291, Acc: 0.8750\n",
            "Epoch [1/50], Step [400/704], Loss: 0.1935, Acc: 0.9375\n",
            "Epoch [1/50], Step [500/704], Loss: 0.2588, Acc: 0.8594\n",
            "Epoch [1/50], Step [600/704], Loss: 0.2743, Acc: 0.9062\n",
            "Epoch [1/50], Step [700/704], Loss: 0.5834, Acc: 0.8125\n",
            "Epoch [1/50] - Train Loss: 0.3019, Train Acc: 0.9029, Val Loss: 0.6803, Val Acc: 0.7772, Time: 163.58s\n",
            "Epoch [2/50], Step [100/704], Loss: 0.2205, Acc: 0.9688\n",
            "Epoch [2/50], Step [200/704], Loss: 0.1720, Acc: 0.9688\n",
            "Epoch [2/50], Step [300/704], Loss: 0.2427, Acc: 0.9219\n",
            "Epoch [2/50], Step [400/704], Loss: 0.3649, Acc: 0.9219\n",
            "Epoch [2/50], Step [500/704], Loss: 0.5258, Acc: 0.8281\n",
            "Epoch [2/50], Step [600/704], Loss: 0.3227, Acc: 0.9062\n",
            "Epoch [2/50], Step [700/704], Loss: 0.3170, Acc: 0.8906\n",
            "Epoch [2/50] - Train Loss: 0.2838, Train Acc: 0.9030, Val Loss: 0.6626, Val Acc: 0.7920, Time: 164.50s\n",
            "Epoch [3/50], Step [100/704], Loss: 0.2340, Acc: 0.9062\n",
            "Epoch [3/50], Step [200/704], Loss: 0.1623, Acc: 0.9844\n",
            "Epoch [3/50], Step [300/704], Loss: 0.1233, Acc: 0.9688\n",
            "Epoch [3/50], Step [400/704], Loss: 0.1325, Acc: 0.9531\n",
            "Epoch [3/50], Step [500/704], Loss: 0.2191, Acc: 0.9375\n",
            "Epoch [3/50], Step [600/704], Loss: 0.3494, Acc: 0.8438\n",
            "Epoch [3/50], Step [700/704], Loss: 0.3604, Acc: 0.8906\n",
            "Epoch [3/50] - Train Loss: 0.2730, Train Acc: 0.9079, Val Loss: 0.5526, Val Acc: 0.8136, Time: 164.24s\n",
            "Epoch [4/50], Step [100/704], Loss: 0.2184, Acc: 0.9375\n",
            "Epoch [4/50], Step [200/704], Loss: 0.4211, Acc: 0.8125\n",
            "Epoch [4/50], Step [300/704], Loss: 0.2599, Acc: 0.9062\n",
            "Epoch [4/50], Step [400/704], Loss: 0.2957, Acc: 0.9062\n",
            "Epoch [4/50], Step [500/704], Loss: 0.2362, Acc: 0.9219\n",
            "Epoch [4/50], Step [600/704], Loss: 0.2008, Acc: 0.9219\n",
            "Epoch [4/50], Step [700/704], Loss: 0.2750, Acc: 0.9375\n",
            "Epoch [4/50] - Train Loss: 0.2775, Train Acc: 0.9056, Val Loss: 0.5627, Val Acc: 0.8110, Time: 165.05s\n",
            "Epoch [5/50], Step [100/704], Loss: 0.2410, Acc: 0.8906\n",
            "Epoch [5/50], Step [200/704], Loss: 0.1967, Acc: 0.9531\n",
            "Epoch [5/50], Step [300/704], Loss: 0.2544, Acc: 0.9219\n",
            "Epoch [5/50], Step [400/704], Loss: 0.1373, Acc: 0.9688\n",
            "Epoch [5/50], Step [500/704], Loss: 0.2420, Acc: 0.9219\n",
            "Epoch [5/50], Step [600/704], Loss: 0.3660, Acc: 0.8438\n",
            "Epoch [5/50], Step [700/704], Loss: 0.3277, Acc: 0.9062\n",
            "Epoch [5/50] - Train Loss: 0.2679, Train Acc: 0.9094, Val Loss: 0.6098, Val Acc: 0.8002, Time: 163.83s\n",
            "Epoch [6/50], Step [100/704], Loss: 0.2519, Acc: 0.9219\n",
            "Epoch [6/50], Step [200/704], Loss: 0.2425, Acc: 0.8906\n",
            "Epoch [6/50], Step [300/704], Loss: 0.2309, Acc: 0.9062\n",
            "Epoch [6/50], Step [400/704], Loss: 0.3026, Acc: 0.8750\n",
            "Epoch [6/50], Step [500/704], Loss: 0.3086, Acc: 0.8906\n",
            "Epoch [6/50], Step [600/704], Loss: 0.4827, Acc: 0.8281\n",
            "Epoch [6/50], Step [700/704], Loss: 0.4668, Acc: 0.8438\n",
            "Epoch [6/50] - Train Loss: 0.2668, Train Acc: 0.9086, Val Loss: 0.5609, Val Acc: 0.8144, Time: 163.86s\n",
            "Epoch [7/50], Step [100/704], Loss: 0.1558, Acc: 0.9375\n",
            "Epoch [7/50], Step [200/704], Loss: 0.1587, Acc: 0.9688\n",
            "Epoch [7/50], Step [300/704], Loss: 0.1391, Acc: 0.9688\n",
            "Epoch [7/50], Step [400/704], Loss: 0.3798, Acc: 0.8594\n",
            "Epoch [7/50], Step [500/704], Loss: 0.2316, Acc: 0.9219\n",
            "Epoch [7/50], Step [600/704], Loss: 0.2688, Acc: 0.9219\n",
            "Epoch [7/50], Step [700/704], Loss: 0.2454, Acc: 0.8906\n",
            "Epoch [7/50] - Train Loss: 0.2585, Train Acc: 0.9111, Val Loss: 0.6856, Val Acc: 0.7836, Time: 164.47s\n",
            "Epoch [8/50], Step [100/704], Loss: 0.1958, Acc: 0.9531\n",
            "Epoch [8/50], Step [200/704], Loss: 0.2576, Acc: 0.9375\n",
            "Epoch [8/50], Step [300/704], Loss: 0.5202, Acc: 0.8438\n",
            "Epoch [8/50], Step [400/704], Loss: 0.2742, Acc: 0.9062\n",
            "Epoch [8/50], Step [500/704], Loss: 0.2710, Acc: 0.8906\n",
            "Epoch [8/50], Step [600/704], Loss: 0.1479, Acc: 0.9375\n",
            "Epoch [8/50], Step [700/704], Loss: 0.3203, Acc: 0.8594\n",
            "Epoch [8/50] - Train Loss: 0.2542, Train Acc: 0.9142, Val Loss: 0.5496, Val Acc: 0.8222, Time: 162.97s\n",
            "Epoch [9/50], Step [100/704], Loss: 0.1110, Acc: 0.9844\n",
            "Epoch [9/50], Step [200/704], Loss: 0.2351, Acc: 0.9375\n",
            "Epoch [9/50], Step [300/704], Loss: 0.3520, Acc: 0.8750\n",
            "Epoch [9/50], Step [400/704], Loss: 0.2958, Acc: 0.9219\n",
            "Epoch [9/50], Step [500/704], Loss: 0.1528, Acc: 0.9531\n",
            "Epoch [9/50], Step [600/704], Loss: 0.0796, Acc: 0.9844\n",
            "Epoch [9/50], Step [700/704], Loss: 0.2454, Acc: 0.9062\n",
            "Epoch [9/50] - Train Loss: 0.2597, Train Acc: 0.9116, Val Loss: 0.5479, Val Acc: 0.8200, Time: 163.79s\n",
            "Epoch [10/50], Step [100/704], Loss: 0.3297, Acc: 0.8906\n",
            "Epoch [10/50], Step [200/704], Loss: 0.2659, Acc: 0.9062\n",
            "Epoch [10/50], Step [300/704], Loss: 0.3711, Acc: 0.9062\n",
            "Epoch [10/50], Step [400/704], Loss: 0.3900, Acc: 0.8438\n",
            "Epoch [10/50], Step [500/704], Loss: 0.2116, Acc: 0.9062\n",
            "Epoch [10/50], Step [600/704], Loss: 0.3707, Acc: 0.8750\n",
            "Epoch [10/50], Step [700/704], Loss: 0.3424, Acc: 0.8594\n",
            "Epoch [10/50] - Train Loss: 0.2601, Train Acc: 0.9106, Val Loss: 0.6745, Val Acc: 0.7870, Time: 163.37s\n",
            "Epoch [11/50], Step [100/704], Loss: 0.2169, Acc: 0.9375\n",
            "Epoch [11/50], Step [200/704], Loss: 0.3434, Acc: 0.8594\n",
            "Epoch [11/50], Step [300/704], Loss: 0.1578, Acc: 0.9219\n",
            "Epoch [11/50], Step [400/704], Loss: 0.4132, Acc: 0.8438\n",
            "Epoch [11/50], Step [500/704], Loss: 0.2612, Acc: 0.9062\n",
            "Epoch [11/50], Step [600/704], Loss: 0.3010, Acc: 0.8594\n",
            "Epoch [11/50], Step [700/704], Loss: 0.2361, Acc: 0.9219\n",
            "Epoch [11/50] - Train Loss: 0.2552, Train Acc: 0.9115, Val Loss: 0.8363, Val Acc: 0.7472, Time: 163.74s\n",
            "Epoch [12/50], Step [100/704], Loss: 0.0418, Acc: 0.9844\n",
            "Epoch [12/50], Step [200/704], Loss: 0.2517, Acc: 0.9062\n",
            "Epoch [12/50], Step [300/704], Loss: 0.1836, Acc: 0.9375\n",
            "Epoch [12/50], Step [400/704], Loss: 0.2552, Acc: 0.9062\n",
            "Epoch [12/50], Step [500/704], Loss: 0.2859, Acc: 0.8906\n",
            "Epoch [12/50], Step [600/704], Loss: 0.3295, Acc: 0.8750\n",
            "Epoch [12/50], Step [700/704], Loss: 0.2352, Acc: 0.9531\n",
            "Epoch [12/50] - Train Loss: 0.2583, Train Acc: 0.9116, Val Loss: 0.5935, Val Acc: 0.8142, Time: 163.69s\n",
            "Epoch [13/50], Step [100/704], Loss: 0.3800, Acc: 0.8750\n",
            "Epoch [13/50], Step [200/704], Loss: 0.2148, Acc: 0.9531\n",
            "Epoch [13/50], Step [300/704], Loss: 0.2386, Acc: 0.8906\n",
            "Epoch [13/50], Step [400/704], Loss: 0.2077, Acc: 0.9375\n",
            "Epoch [13/50], Step [500/704], Loss: 0.3007, Acc: 0.8906\n",
            "Epoch [13/50], Step [600/704], Loss: 0.2640, Acc: 0.9219\n",
            "Epoch [13/50], Step [700/704], Loss: 0.1983, Acc: 0.9062\n",
            "Epoch [13/50] - Train Loss: 0.2537, Train Acc: 0.9142, Val Loss: 0.8425, Val Acc: 0.7570, Time: 164.14s\n",
            "Epoch [14/50], Step [100/704], Loss: 0.1591, Acc: 0.9375\n",
            "Epoch [14/50], Step [200/704], Loss: 0.2580, Acc: 0.8750\n",
            "Epoch [14/50], Step [300/704], Loss: 0.1746, Acc: 0.9531\n",
            "Epoch [14/50], Step [400/704], Loss: 0.2414, Acc: 0.8906\n",
            "Epoch [14/50], Step [500/704], Loss: 0.2149, Acc: 0.9219\n",
            "Epoch [14/50], Step [600/704], Loss: 0.1891, Acc: 0.9531\n",
            "Epoch [14/50], Step [700/704], Loss: 0.2548, Acc: 0.9219\n",
            "Epoch [14/50] - Train Loss: 0.2472, Train Acc: 0.9158, Val Loss: 0.6222, Val Acc: 0.7982, Time: 165.14s\n",
            "Epoch [15/50], Step [100/704], Loss: 0.2993, Acc: 0.8750\n",
            "Epoch [15/50], Step [200/704], Loss: 0.2197, Acc: 0.9375\n",
            "Epoch [15/50], Step [300/704], Loss: 0.2052, Acc: 0.9062\n",
            "Epoch [15/50], Step [400/704], Loss: 0.2218, Acc: 0.9375\n",
            "Epoch [15/50], Step [500/704], Loss: 0.2010, Acc: 0.9688\n",
            "Epoch [15/50], Step [600/704], Loss: 0.2229, Acc: 0.9219\n",
            "Epoch [15/50], Step [700/704], Loss: 0.2483, Acc: 0.8906\n",
            "Epoch [15/50] - Train Loss: 0.2450, Train Acc: 0.9164, Val Loss: 0.5798, Val Acc: 0.8108, Time: 164.49s\n",
            "Epoch [16/50], Step [100/704], Loss: 0.0870, Acc: 1.0000\n",
            "Epoch [16/50], Step [200/704], Loss: 0.1950, Acc: 0.9219\n",
            "Epoch [16/50], Step [300/704], Loss: 0.1792, Acc: 0.9375\n",
            "Epoch [16/50], Step [400/704], Loss: 0.1707, Acc: 0.9531\n",
            "Epoch [16/50], Step [500/704], Loss: 0.2709, Acc: 0.8906\n",
            "Epoch [16/50], Step [600/704], Loss: 0.3177, Acc: 0.8594\n",
            "Epoch [16/50], Step [700/704], Loss: 0.3076, Acc: 0.9062\n",
            "Epoch [16/50] - Train Loss: 0.2452, Train Acc: 0.9154, Val Loss: 0.7963, Val Acc: 0.7522, Time: 166.92s\n",
            "Epoch [17/50], Step [100/704], Loss: 0.1619, Acc: 0.9531\n",
            "Epoch [17/50], Step [200/704], Loss: 0.1408, Acc: 0.9531\n",
            "Epoch [17/50], Step [300/704], Loss: 0.2334, Acc: 0.9062\n",
            "Epoch [17/50], Step [400/704], Loss: 0.1580, Acc: 0.9219\n",
            "Epoch [17/50], Step [500/704], Loss: 0.4098, Acc: 0.8750\n",
            "Epoch [17/50], Step [600/704], Loss: 0.2024, Acc: 0.9375\n",
            "Epoch [17/50], Step [700/704], Loss: 0.4381, Acc: 0.8750\n",
            "Epoch [17/50] - Train Loss: 0.2573, Train Acc: 0.9121, Val Loss: 0.6005, Val Acc: 0.8092, Time: 166.72s\n",
            "Epoch [18/50], Step [100/704], Loss: 0.1160, Acc: 0.9531\n",
            "Epoch [18/50], Step [200/704], Loss: 0.1947, Acc: 0.9062\n",
            "Epoch [18/50], Step [300/704], Loss: 0.2397, Acc: 0.9375\n",
            "Epoch [18/50], Step [400/704], Loss: 0.1503, Acc: 0.9375\n",
            "Epoch [18/50], Step [500/704], Loss: 0.3782, Acc: 0.8438\n",
            "Epoch [18/50], Step [600/704], Loss: 0.2587, Acc: 0.9062\n",
            "Epoch [18/50], Step [700/704], Loss: 0.1746, Acc: 0.9375\n",
            "Epoch [18/50] - Train Loss: 0.2362, Train Acc: 0.9201, Val Loss: 0.6492, Val Acc: 0.7980, Time: 166.49s\n",
            "Epoch [19/50], Step [100/704], Loss: 0.2345, Acc: 0.9219\n",
            "Epoch [19/50], Step [200/704], Loss: 0.2819, Acc: 0.8750\n",
            "Epoch [19/50], Step [300/704], Loss: 0.1422, Acc: 0.9688\n",
            "Epoch [19/50], Step [400/704], Loss: 0.3454, Acc: 0.8750\n",
            "Epoch [19/50], Step [500/704], Loss: 0.2956, Acc: 0.8906\n",
            "Epoch [19/50], Step [600/704], Loss: 0.2947, Acc: 0.8594\n",
            "Epoch [19/50], Step [700/704], Loss: 0.1434, Acc: 0.9375\n",
            "Epoch [19/50] - Train Loss: 0.2495, Train Acc: 0.9128, Val Loss: 0.5983, Val Acc: 0.8128, Time: 167.70s\n",
            "Epoch [20/50], Step [100/704], Loss: 0.2740, Acc: 0.8906\n",
            "Epoch [20/50], Step [200/704], Loss: 0.0982, Acc: 0.9531\n",
            "Epoch [20/50], Step [300/704], Loss: 0.1683, Acc: 0.9375\n",
            "Epoch [20/50], Step [400/704], Loss: 0.2065, Acc: 0.9375\n",
            "Epoch [20/50], Step [500/704], Loss: 0.3974, Acc: 0.8281\n",
            "Epoch [20/50], Step [600/704], Loss: 0.2859, Acc: 0.9219\n",
            "Epoch [20/50], Step [700/704], Loss: 0.2367, Acc: 0.9375\n",
            "Epoch [20/50] - Train Loss: 0.2425, Train Acc: 0.9166, Val Loss: 0.5063, Val Acc: 0.8342, Time: 166.51s\n",
            "Epoch [21/50], Step [100/704], Loss: 0.1979, Acc: 0.9219\n",
            "Epoch [21/50], Step [200/704], Loss: 0.1907, Acc: 0.9062\n",
            "Epoch [21/50], Step [300/704], Loss: 0.2923, Acc: 0.8906\n",
            "Epoch [21/50], Step [400/704], Loss: 0.2796, Acc: 0.8594\n",
            "Epoch [21/50], Step [500/704], Loss: 0.3764, Acc: 0.9062\n",
            "Epoch [21/50], Step [600/704], Loss: 0.4026, Acc: 0.8750\n",
            "Epoch [21/50], Step [700/704], Loss: 0.3131, Acc: 0.8906\n",
            "Epoch [21/50] - Train Loss: 0.2453, Train Acc: 0.9147, Val Loss: 0.6817, Val Acc: 0.7910, Time: 166.34s\n",
            "Epoch [22/50], Step [100/704], Loss: 0.1799, Acc: 0.9688\n",
            "Epoch [22/50], Step [200/704], Loss: 0.1300, Acc: 0.9531\n",
            "Epoch [22/50], Step [300/704], Loss: 0.1565, Acc: 0.9531\n",
            "Epoch [22/50], Step [400/704], Loss: 0.3608, Acc: 0.8750\n",
            "Epoch [22/50], Step [500/704], Loss: 0.2037, Acc: 0.8906\n",
            "Epoch [22/50], Step [600/704], Loss: 0.1107, Acc: 0.9688\n",
            "Epoch [22/50], Step [700/704], Loss: 0.4433, Acc: 0.8594\n",
            "Epoch [22/50] - Train Loss: 0.2405, Train Acc: 0.9177, Val Loss: 0.6194, Val Acc: 0.8018, Time: 165.78s\n",
            "Epoch [23/50], Step [100/704], Loss: 0.1485, Acc: 0.9688\n",
            "Epoch [23/50], Step [200/704], Loss: 0.0811, Acc: 0.9844\n",
            "Epoch [23/50], Step [300/704], Loss: 0.1335, Acc: 0.9531\n",
            "Epoch [23/50], Step [400/704], Loss: 0.1485, Acc: 0.9688\n",
            "Epoch [23/50], Step [500/704], Loss: 0.3037, Acc: 0.8750\n",
            "Epoch [23/50], Step [600/704], Loss: 0.2923, Acc: 0.8906\n",
            "Epoch [23/50], Step [700/704], Loss: 0.2707, Acc: 0.9062\n",
            "Epoch [23/50] - Train Loss: 0.2359, Train Acc: 0.9198, Val Loss: 0.6862, Val Acc: 0.7900, Time: 165.32s\n",
            "Epoch [24/50], Step [100/704], Loss: 0.2710, Acc: 0.8750\n",
            "Epoch [24/50], Step [200/704], Loss: 0.1276, Acc: 0.9531\n",
            "Epoch [24/50], Step [300/704], Loss: 0.1979, Acc: 0.9062\n",
            "Epoch [24/50], Step [400/704], Loss: 0.4241, Acc: 0.8594\n",
            "Epoch [24/50], Step [500/704], Loss: 0.2824, Acc: 0.8750\n",
            "Epoch [24/50], Step [600/704], Loss: 0.4383, Acc: 0.8438\n",
            "Epoch [24/50], Step [700/704], Loss: 0.3380, Acc: 0.8281\n",
            "Epoch [24/50] - Train Loss: 0.2408, Train Acc: 0.9172, Val Loss: 0.6971, Val Acc: 0.7822, Time: 165.19s\n",
            "Epoch [25/50], Step [100/704], Loss: 0.2119, Acc: 0.8906\n",
            "Epoch [25/50], Step [200/704], Loss: 0.1999, Acc: 0.9375\n",
            "Epoch [25/50], Step [300/704], Loss: 0.2938, Acc: 0.9062\n",
            "Epoch [25/50], Step [400/704], Loss: 0.3444, Acc: 0.8594\n",
            "Epoch [25/50], Step [500/704], Loss: 0.1660, Acc: 0.9219\n",
            "Epoch [25/50], Step [600/704], Loss: 0.2803, Acc: 0.9062\n",
            "Epoch [25/50], Step [700/704], Loss: 0.1994, Acc: 0.9375\n",
            "Epoch [25/50] - Train Loss: 0.2340, Train Acc: 0.9201, Val Loss: 0.5588, Val Acc: 0.8200, Time: 166.57s\n",
            "Epoch [26/50], Step [100/704], Loss: 0.2684, Acc: 0.8906\n",
            "Epoch [26/50], Step [200/704], Loss: 0.2049, Acc: 0.9062\n",
            "Epoch [26/50], Step [300/704], Loss: 0.2072, Acc: 0.9219\n",
            "Epoch [26/50], Step [400/704], Loss: 0.3358, Acc: 0.8906\n",
            "Epoch [26/50], Step [500/704], Loss: 0.1779, Acc: 0.9531\n",
            "Epoch [26/50], Step [600/704], Loss: 0.3177, Acc: 0.8750\n",
            "Epoch [26/50], Step [700/704], Loss: 0.2772, Acc: 0.9219\n",
            "Epoch [26/50] - Train Loss: 0.2423, Train Acc: 0.9163, Val Loss: 0.6066, Val Acc: 0.8050, Time: 165.90s\n",
            "Epoch [27/50], Step [100/704], Loss: 0.1727, Acc: 0.9375\n",
            "Epoch [27/50], Step [200/704], Loss: 0.1541, Acc: 0.9375\n",
            "Epoch [27/50], Step [300/704], Loss: 0.5607, Acc: 0.7969\n",
            "Epoch [27/50], Step [400/704], Loss: 0.1476, Acc: 0.9531\n",
            "Epoch [27/50], Step [500/704], Loss: 0.3808, Acc: 0.8594\n",
            "Epoch [27/50], Step [600/704], Loss: 0.4031, Acc: 0.8125\n",
            "Epoch [27/50], Step [700/704], Loss: 0.3755, Acc: 0.8594\n",
            "Epoch [27/50] - Train Loss: 0.2302, Train Acc: 0.9213, Val Loss: 0.5995, Val Acc: 0.8110, Time: 165.38s\n",
            "Epoch [28/50], Step [100/704], Loss: 0.3137, Acc: 0.9062\n",
            "Epoch [28/50], Step [200/704], Loss: 0.2008, Acc: 0.9219\n",
            "Epoch [28/50], Step [300/704], Loss: 0.0678, Acc: 0.9844\n",
            "Epoch [28/50], Step [400/704], Loss: 0.2032, Acc: 0.9219\n",
            "Epoch [28/50], Step [500/704], Loss: 0.1882, Acc: 0.9375\n",
            "Epoch [28/50], Step [600/704], Loss: 0.4482, Acc: 0.8750\n",
            "Epoch [28/50], Step [700/704], Loss: 0.2329, Acc: 0.9219\n",
            "Epoch [28/50] - Train Loss: 0.2303, Train Acc: 0.9216, Val Loss: 0.5494, Val Acc: 0.8202, Time: 168.63s\n",
            "Epoch [29/50], Step [100/704], Loss: 0.1498, Acc: 0.9844\n",
            "Epoch [29/50], Step [200/704], Loss: 0.2437, Acc: 0.9531\n",
            "Epoch [29/50], Step [300/704], Loss: 0.3223, Acc: 0.8750\n",
            "Epoch [29/50], Step [400/704], Loss: 0.3553, Acc: 0.8906\n",
            "Epoch [29/50], Step [500/704], Loss: 0.2048, Acc: 0.9375\n",
            "Epoch [29/50], Step [600/704], Loss: 0.2901, Acc: 0.9062\n",
            "Epoch [29/50], Step [700/704], Loss: 0.1682, Acc: 0.9531\n",
            "Epoch [29/50] - Train Loss: 0.2426, Train Acc: 0.9170, Val Loss: 0.9640, Val Acc: 0.7216, Time: 169.94s\n",
            "Epoch [30/50], Step [100/704], Loss: 0.1797, Acc: 0.9219\n",
            "Epoch [30/50], Step [200/704], Loss: 0.2343, Acc: 0.9219\n",
            "Epoch [30/50], Step [300/704], Loss: 0.3463, Acc: 0.9062\n",
            "Epoch [30/50], Step [400/704], Loss: 0.1453, Acc: 0.9375\n",
            "Epoch [30/50], Step [500/704], Loss: 0.2120, Acc: 0.9375\n",
            "Epoch [30/50], Step [600/704], Loss: 0.2173, Acc: 0.9531\n",
            "Epoch [30/50], Step [700/704], Loss: 0.2852, Acc: 0.8906\n",
            "Epoch [30/50] - Train Loss: 0.2357, Train Acc: 0.9194, Val Loss: 0.6664, Val Acc: 0.8028, Time: 167.78s\n",
            "Epoch [31/50], Step [100/704], Loss: 0.1489, Acc: 0.9375\n",
            "Epoch [31/50], Step [200/704], Loss: 0.1443, Acc: 0.9531\n",
            "Epoch [31/50], Step [300/704], Loss: 0.2741, Acc: 0.9062\n",
            "Epoch [31/50], Step [400/704], Loss: 0.2813, Acc: 0.9375\n",
            "Epoch [31/50], Step [500/704], Loss: 0.3265, Acc: 0.9062\n",
            "Epoch [31/50], Step [600/704], Loss: 0.2041, Acc: 0.9531\n",
            "Epoch [31/50], Step [700/704], Loss: 0.3423, Acc: 0.8594\n",
            "Epoch [31/50] - Train Loss: 0.2414, Train Acc: 0.9167, Val Loss: 0.5521, Val Acc: 0.8258, Time: 168.44s\n",
            "Epoch [32/50], Step [100/704], Loss: 0.1279, Acc: 1.0000\n",
            "Epoch [32/50], Step [200/704], Loss: 0.1990, Acc: 0.9219\n",
            "Epoch [32/50], Step [300/704], Loss: 0.1988, Acc: 0.9219\n",
            "Epoch [32/50], Step [400/704], Loss: 0.4530, Acc: 0.8438\n",
            "Epoch [32/50], Step [500/704], Loss: 0.1992, Acc: 0.9375\n",
            "Epoch [32/50], Step [600/704], Loss: 0.2341, Acc: 0.9062\n",
            "Epoch [32/50], Step [700/704], Loss: 0.3053, Acc: 0.9062\n",
            "Epoch [32/50] - Train Loss: 0.2348, Train Acc: 0.9202, Val Loss: 0.5946, Val Acc: 0.8058, Time: 166.42s\n",
            "Epoch [33/50], Step [100/704], Loss: 0.1496, Acc: 0.9375\n",
            "Epoch [33/50], Step [200/704], Loss: 0.0924, Acc: 0.9688\n",
            "Epoch [33/50], Step [300/704], Loss: 0.2442, Acc: 0.8750\n",
            "Epoch [33/50], Step [400/704], Loss: 0.2481, Acc: 0.8906\n",
            "Epoch [33/50], Step [500/704], Loss: 0.1845, Acc: 0.9219\n",
            "Epoch [33/50], Step [600/704], Loss: 0.2231, Acc: 0.9062\n",
            "Epoch [33/50], Step [700/704], Loss: 0.4056, Acc: 0.9062\n",
            "Epoch [33/50] - Train Loss: 0.2280, Train Acc: 0.9232, Val Loss: 0.6067, Val Acc: 0.8096, Time: 165.28s\n",
            "Epoch [34/50], Step [100/704], Loss: 0.1179, Acc: 0.9688\n",
            "Epoch [34/50], Step [200/704], Loss: 0.1586, Acc: 0.9688\n",
            "Epoch [34/50], Step [300/704], Loss: 0.1840, Acc: 0.9219\n",
            "Epoch [34/50], Step [400/704], Loss: 0.2663, Acc: 0.9062\n",
            "Epoch [34/50], Step [500/704], Loss: 0.2354, Acc: 0.9531\n",
            "Epoch [34/50], Step [600/704], Loss: 0.4437, Acc: 0.8125\n",
            "Epoch [34/50], Step [700/704], Loss: 0.2187, Acc: 0.9375\n",
            "Epoch [34/50] - Train Loss: 0.2371, Train Acc: 0.9185, Val Loss: 0.5468, Val Acc: 0.8250, Time: 165.68s\n",
            "Epoch [35/50], Step [100/704], Loss: 0.1491, Acc: 0.9531\n",
            "Epoch [35/50], Step [200/704], Loss: 0.2432, Acc: 0.9062\n",
            "Epoch [35/50], Step [300/704], Loss: 0.1671, Acc: 0.9375\n",
            "Epoch [35/50], Step [400/704], Loss: 0.2543, Acc: 0.9062\n",
            "Epoch [35/50], Step [500/704], Loss: 0.3881, Acc: 0.8906\n",
            "Epoch [35/50], Step [600/704], Loss: 0.2585, Acc: 0.8906\n",
            "Epoch [35/50], Step [700/704], Loss: 0.2544, Acc: 0.9375\n",
            "Epoch [35/50] - Train Loss: 0.2234, Train Acc: 0.9234, Val Loss: 0.6670, Val Acc: 0.7952, Time: 166.40s\n",
            "Epoch [36/50], Step [100/704], Loss: 0.1804, Acc: 0.9531\n",
            "Epoch [36/50], Step [200/704], Loss: 0.1372, Acc: 0.9688\n",
            "Epoch [36/50], Step [300/704], Loss: 0.1359, Acc: 0.9531\n",
            "Epoch [36/50], Step [400/704], Loss: 0.2341, Acc: 0.9219\n",
            "Epoch [36/50], Step [500/704], Loss: 0.2760, Acc: 0.8906\n",
            "Epoch [36/50], Step [600/704], Loss: 0.2955, Acc: 0.8750\n",
            "Epoch [36/50], Step [700/704], Loss: 0.1323, Acc: 0.9531\n",
            "Epoch [36/50] - Train Loss: 0.2371, Train Acc: 0.9177, Val Loss: 0.5890, Val Acc: 0.8226, Time: 168.09s\n",
            "Epoch [37/50], Step [100/704], Loss: 0.3080, Acc: 0.8594\n",
            "Epoch [37/50], Step [200/704], Loss: 0.0969, Acc: 0.9688\n",
            "Epoch [37/50], Step [300/704], Loss: 0.1711, Acc: 0.9375\n",
            "Epoch [37/50], Step [400/704], Loss: 0.2570, Acc: 0.9062\n",
            "Epoch [37/50], Step [500/704], Loss: 0.1770, Acc: 0.9844\n",
            "Epoch [37/50], Step [600/704], Loss: 0.1446, Acc: 0.9531\n",
            "Epoch [37/50], Step [700/704], Loss: 0.2167, Acc: 0.9688\n",
            "Epoch [37/50] - Train Loss: 0.2310, Train Acc: 0.9204, Val Loss: 0.6221, Val Acc: 0.7992, Time: 168.63s\n",
            "Epoch [38/50], Step [100/704], Loss: 0.0809, Acc: 0.9688\n",
            "Epoch [38/50], Step [200/704], Loss: 0.1943, Acc: 0.9219\n",
            "Epoch [38/50], Step [300/704], Loss: 0.3130, Acc: 0.9219\n",
            "Epoch [38/50], Step [400/704], Loss: 0.1701, Acc: 0.9531\n",
            "Epoch [38/50], Step [500/704], Loss: 0.2383, Acc: 0.9375\n",
            "Epoch [38/50], Step [600/704], Loss: 0.1548, Acc: 0.9375\n",
            "Epoch [38/50], Step [700/704], Loss: 0.1999, Acc: 0.9688\n",
            "Epoch [38/50] - Train Loss: 0.2293, Train Acc: 0.9226, Val Loss: 0.5749, Val Acc: 0.8112, Time: 167.26s\n",
            "Epoch [39/50], Step [100/704], Loss: 0.1833, Acc: 0.9531\n",
            "Epoch [39/50], Step [200/704], Loss: 0.1590, Acc: 0.9219\n",
            "Epoch [39/50], Step [300/704], Loss: 0.1088, Acc: 0.9844\n",
            "Epoch [39/50], Step [400/704], Loss: 0.2011, Acc: 0.9531\n",
            "Epoch [39/50], Step [500/704], Loss: 0.3350, Acc: 0.8906\n",
            "Epoch [39/50], Step [600/704], Loss: 0.2386, Acc: 0.9375\n",
            "Epoch [39/50], Step [700/704], Loss: 0.1832, Acc: 0.9375\n",
            "Epoch [39/50] - Train Loss: 0.2286, Train Acc: 0.9235, Val Loss: 0.5611, Val Acc: 0.8206, Time: 167.67s\n",
            "Epoch [40/50], Step [100/704], Loss: 0.1650, Acc: 0.9844\n",
            "Epoch [40/50], Step [200/704], Loss: 0.2276, Acc: 0.8906\n",
            "Epoch [40/50], Step [300/704], Loss: 0.2917, Acc: 0.8906\n",
            "Epoch [40/50], Step [400/704], Loss: 0.1826, Acc: 0.9219\n",
            "Epoch [40/50], Step [500/704], Loss: 0.2544, Acc: 0.9219\n",
            "Epoch [40/50], Step [600/704], Loss: 0.3123, Acc: 0.8906\n",
            "Epoch [40/50], Step [700/704], Loss: 0.3489, Acc: 0.8750\n",
            "Epoch [40/50] - Train Loss: 0.2318, Train Acc: 0.9194, Val Loss: 0.8166, Val Acc: 0.7598, Time: 166.96s\n",
            "Epoch [41/50], Step [100/704], Loss: 0.1197, Acc: 0.9531\n",
            "Epoch [41/50], Step [200/704], Loss: 0.2632, Acc: 0.9219\n",
            "Epoch [41/50], Step [300/704], Loss: 0.1375, Acc: 0.9531\n",
            "Epoch [41/50], Step [400/704], Loss: 0.3093, Acc: 0.8594\n",
            "Epoch [41/50], Step [500/704], Loss: 0.1801, Acc: 0.9219\n",
            "Epoch [41/50], Step [600/704], Loss: 0.1677, Acc: 0.9375\n",
            "Epoch [41/50], Step [700/704], Loss: 0.2535, Acc: 0.8906\n",
            "Epoch [41/50] - Train Loss: 0.2288, Train Acc: 0.9220, Val Loss: 0.7480, Val Acc: 0.7802, Time: 166.45s\n",
            "Epoch [42/50], Step [100/704], Loss: 0.1816, Acc: 0.9531\n",
            "Epoch [42/50], Step [200/704], Loss: 0.1920, Acc: 0.9219\n",
            "Epoch [42/50], Step [300/704], Loss: 0.3704, Acc: 0.8906\n",
            "Epoch [42/50], Step [400/704], Loss: 0.2746, Acc: 0.8750\n",
            "Epoch [42/50], Step [500/704], Loss: 0.4824, Acc: 0.8438\n",
            "Epoch [42/50], Step [600/704], Loss: 0.2340, Acc: 0.9219\n",
            "Epoch [42/50], Step [700/704], Loss: 0.2348, Acc: 0.9375\n",
            "Epoch [42/50] - Train Loss: 0.2348, Train Acc: 0.9207, Val Loss: 0.6512, Val Acc: 0.8026, Time: 167.45s\n",
            "Epoch [43/50], Step [100/704], Loss: 0.2605, Acc: 0.9219\n",
            "Epoch [43/50], Step [200/704], Loss: 0.1501, Acc: 0.9531\n",
            "Epoch [43/50], Step [300/704], Loss: 0.2197, Acc: 0.9062\n",
            "Epoch [43/50], Step [400/704], Loss: 0.2166, Acc: 0.9375\n",
            "Epoch [43/50], Step [500/704], Loss: 0.2034, Acc: 0.9219\n",
            "Epoch [43/50], Step [600/704], Loss: 0.2308, Acc: 0.9219\n",
            "Epoch [43/50], Step [700/704], Loss: 0.3194, Acc: 0.9062\n",
            "Epoch [43/50] - Train Loss: 0.2266, Train Acc: 0.9232, Val Loss: 0.5425, Val Acc: 0.8232, Time: 168.14s\n"
          ]
        }
      ],
      "source": [
        "total_step = len(train_loader)\n",
        "global_step = 0\n",
        "from tqdm import tqdm\n",
        "for epoch in range(num_epochs):\n",
        "    epoch_start_time = time.time()\n",
        "\n",
        "    # Training phase\n",
        "    model.train()\n",
        "    running_loss = 0.0\n",
        "    running_corrects = 0\n",
        "    total_samples = 0\n",
        "\n",
        "    for i, (images, labels) in enumerate(train_loader):\n",
        "        # Move tensors to the configured device\n",
        "        images = images.to(device)\n",
        "        labels = labels.to(device)\n",
        "\n",
        "        # Forward pass\n",
        "        outputs = model(images)\n",
        "        loss = criterion(outputs, labels)\n",
        "\n",
        "        # Backward and optimize\n",
        "        optimizer.zero_grad()\n",
        "        loss.backward()\n",
        "\n",
        "        # Calculate gradient norm before optimizer step\n",
        "        grad_norm = get_gradient_norm(model)\n",
        "\n",
        "        optimizer.step()\n",
        "\n",
        "        # Statistics\n",
        "        running_loss += loss.item() * images.size(0)\n",
        "        running_corrects += (torch.max(outputs, 1)[1] == labels).sum().item()\n",
        "        total_samples += labels.size(0)\n",
        "\n",
        "        # Log to TensorBoard every 100 steps\n",
        "        if (i + 1) % 100 == 0:\n",
        "            writer.add_scalar('Training/Loss_Step', loss.item(), global_step)\n",
        "            writer.add_scalar('Training/Accuracy_Step',\n",
        "                            calculate_accuracy(outputs, labels), global_step)\n",
        "            writer.add_scalar('Training/Gradient_Norm', grad_norm, global_step)\n",
        "            writer.add_scalar('Training/Weight_Norm', get_weight_norm(model), global_step)\n",
        "\n",
        "            # Log learning rate\n",
        "            current_lr = optimizer.param_groups[0]['lr']\n",
        "            writer.add_scalar('Training/Learning_Rate', current_lr, global_step)\n",
        "\n",
        "            print(f'Epoch [{epoch+1}/{num_epochs}], Step [{i+1}/{total_step}], '\n",
        "                  f'Loss: {loss.item():.4f}, Acc: {calculate_accuracy(outputs, labels):.4f}')\n",
        "\n",
        "        global_step += 1\n",
        "\n",
        "    # Calculate epoch training metrics\n",
        "    epoch_train_loss = running_loss / total_samples\n",
        "    epoch_train_acc = running_corrects / total_samples\n",
        "\n",
        "    # Validation phase\n",
        "    model.eval()\n",
        "    val_running_loss = 0.0\n",
        "    val_running_corrects = 0\n",
        "    val_total_samples = 0\n",
        "    all_predictions = []\n",
        "    all_labels = []\n",
        "\n",
        "    with torch.no_grad():\n",
        "        for images, labels in valid_loader:\n",
        "            images = images.to(device)\n",
        "            labels = labels.to(device)\n",
        "            outputs = model(images)\n",
        "            loss = criterion(outputs, labels)\n",
        "\n",
        "            val_running_loss += loss.item() * images.size(0)\n",
        "            _, predicted = torch.max(outputs, 1)\n",
        "            val_running_corrects += (predicted == labels).sum().item()\n",
        "            val_total_samples += labels.size(0)\n",
        "\n",
        "            # Store predictions for confusion matrix\n",
        "            all_predictions.extend(predicted.cpu().numpy())\n",
        "            all_labels.extend(labels.cpu().numpy())\n",
        "\n",
        "    # Calculate epoch validation metrics\n",
        "    epoch_val_loss = val_running_loss / val_total_samples\n",
        "    epoch_val_acc = val_running_corrects / val_total_samples\n",
        "    epoch_time = time.time() - epoch_start_time\n",
        "\n",
        "    # Store metrics for Plotly visualization\n",
        "    training_metrics['epoch'].append(epoch + 1)\n",
        "    training_metrics['train_loss'].append(epoch_train_loss)\n",
        "    training_metrics['train_acc'].append(epoch_train_acc)\n",
        "    training_metrics['val_loss'].append(epoch_val_loss)\n",
        "    training_metrics['val_acc'].append(epoch_val_acc)\n",
        "    training_metrics['learning_rate'].append(optimizer.param_groups[0]['lr'])\n",
        "    training_metrics['epoch_time'].append(epoch_time)\n",
        "    training_metrics['gradient_norm'].append(grad_norm)\n",
        "    training_metrics['weight_norm'].append(get_weight_norm(model))\n",
        "\n",
        "    # Log epoch metrics to TensorBoard\n",
        "    writer.add_scalar('Epoch/Train_Loss', epoch_train_loss, epoch)\n",
        "    writer.add_scalar('Epoch/Train_Accuracy', epoch_train_acc, epoch)\n",
        "    writer.add_scalar('Epoch/Val_Loss', epoch_val_loss, epoch)\n",
        "    writer.add_scalar('Epoch/Val_Accuracy', epoch_val_acc, epoch)\n",
        "    writer.add_scalar('Epoch/Time', epoch_time, epoch)\n",
        "\n",
        "    # Log confusion matrix every 5 epochs\n",
        "    if (epoch + 1) % 5 == 0:\n",
        "        cm = confusion_matrix(all_labels, all_predictions)\n",
        "        fig_cm = px.imshow(cm,\n",
        "                          x=class_names,\n",
        "                          y=class_names,\n",
        "                          color_continuous_scale='Blues',\n",
        "                          title=f'Confusion Matrix - Epoch {epoch+1}')\n",
        "        png_bytes = fig_cm.to_image(format=\"png\")  # works after Option A setup\n",
        "        img = Image.open(io.BytesIO(png_bytes)).convert(\"RGB\")\n",
        "        img_np = np.array(img)  # H x W x 3\n",
        "        writer.add_image(f'Confusion_Matrix/Epoch_{epoch+1}',\n",
        "                        img_np.transpose(2,0,1),  # CHW for TensorBoard\n",
        "                        global_step=epoch)\n",
        "\n",
        "    print(f'Epoch [{epoch+1}/{num_epochs}] - '\n",
        "          f'Train Loss: {epoch_train_loss:.4f}, Train Acc: {epoch_train_acc:.4f}, '\n",
        "          f'Val Loss: {epoch_val_loss:.4f}, Val Acc: {epoch_val_acc:.4f}, '\n",
        "          f'Time: {epoch_time:.2f}s')\n",
        "\n",
        "# Log model graph\n",
        "dummy_input = torch.randn(1, 3, 227, 227).to(device)\n",
        "writer.add_graph(model, dummy_input)\n",
        "\n",
        "# Close TensorBoard writer\n",
        "writer.close()\n",
        "print(f\"Training completed! TensorBoard logs saved to: {log_dir}\")"
      ]
    },
    {
      "cell_type": "code",
      "execution_count": 24,
      "id": "086115d8",
      "metadata": {
        "colab": {
          "base_uri": "https://localhost:8080/",
          "height": 1000
        },
        "id": "086115d8",
        "outputId": "27c72f07-fa81-41a3-b839-66a4a2af0cd7"
      },
      "outputs": [
        {
          "output_type": "display_data",
          "data": {
            "text/html": [
              "<html>\n",
              "<head><meta charset=\"utf-8\" /></head>\n",
              "<body>\n",
              "    <div>            <script src=\"https://cdnjs.cloudflare.com/ajax/libs/mathjax/2.7.5/MathJax.js?config=TeX-AMS-MML_SVG\"></script><script type=\"text/javascript\">if (window.MathJax && window.MathJax.Hub && window.MathJax.Hub.Config) {window.MathJax.Hub.Config({SVG: {font: \"STIX-Web\"}});}</script>                <script type=\"text/javascript\">window.PlotlyConfig = {MathJaxConfig: 'local'};</script>\n",
              "        <script charset=\"utf-8\" src=\"https://cdn.plot.ly/plotly-3.1.1.min.js\" integrity=\"sha256-HUEFyfiTnZJxCxur99FjbKYTvKSzwDaD3/x5TqHpFu4=\" crossorigin=\"anonymous\"></script>                <div id=\"1320f786-4a9c-4e52-ae0c-b5a6151d5e02\" class=\"plotly-graph-div\" style=\"height:1200px; width:100%;\"></div>            <script type=\"text/javascript\">                window.PLOTLYENV=window.PLOTLYENV || {};                                if (document.getElementById(\"1320f786-4a9c-4e52-ae0c-b5a6151d5e02\")) {                    Plotly.newPlot(                        \"1320f786-4a9c-4e52-ae0c-b5a6151d5e02\",                        [{\"line\":{\"color\":\"red\"},\"name\":\"Training Loss\",\"x\":[1,2,3,4,5,1,2,3,4,5,6,7,8,9,10,11,12,13,14,15,16,17,18,19,20],\"y\":[1.3966068624708388,0.972591680208842,0.8138996900823381,0.7173175862100389,0.6481253109825982,0.60362919265959,0.5542090756098429,0.5201273525238037,0.48366496342553034,0.4559668711556329,0.42950219359927705,0.410296334777938,0.395251518758138,0.37836115650600854,0.3651320713818073,0.3427645736482408,0.34492547963460285,0.3376286684989929,0.3282891097916497,0.3183161119249132,0.31217474779023063,0.3037266748958164,0.2952282526228163,0.2996210789117548,0.2857681352853775],\"type\":\"scatter\",\"xaxis\":\"x\",\"yaxis\":\"y\"},{\"line\":{\"color\":\"blue\"},\"name\":\"Validation Loss\",\"x\":[1,2,3,4,5,1,2,3,4,5,6,7,8,9,10,11,12,13,14,15,16,17,18,19,20],\"y\":[1.16960942401886,0.9873155637741089,0.7091292722702026,0.6800682538032532,0.6912616882324218,0.7368261642456054,0.6271655067443848,0.5834294357299805,0.679951402425766,0.5979644714355469,0.5939063961982727,0.5632772290706635,0.5704066603183746,0.6960741286277771,0.7258252748012542,0.6026268452644348,0.5509789314270019,0.8336139955997467,0.7766544528007507,0.8179782648086548,0.5479954277038575,0.5164180721282959,0.8089059620261192,0.6574209207057953,0.7065609624862671],\"type\":\"scatter\",\"xaxis\":\"x\",\"yaxis\":\"y\"},{\"line\":{\"color\":\"green\"},\"name\":\"Training Accuracy\",\"x\":[1,2,3,4,5,1,2,3,4,5,6,7,8,9,10,11,12,13,14,15,16,17,18,19,20],\"y\":[0.4871333333333333,0.6539555555555555,0.7126666666666667,0.7496888888888888,0.7730222222222223,0.7895333333333333,0.8068444444444445,0.8216444444444444,0.8321111111111111,0.8430888888888889,0.8524888888888889,0.8596888888888888,0.8662,0.8688222222222223,0.8756666666666667,0.8848666666666667,0.8820444444444444,0.8837333333333334,0.8859111111111111,0.8895555555555555,0.8930444444444444,0.8949333333333334,0.8994666666666666,0.8974444444444445,0.9026888888888889],\"type\":\"scatter\",\"xaxis\":\"x2\",\"yaxis\":\"y2\"},{\"line\":{\"color\":\"orange\"},\"name\":\"Validation Accuracy\",\"x\":[1,2,3,4,5,1,2,3,4,5,6,7,8,9,10,11,12,13,14,15,16,17,18,19,20],\"y\":[0.5848,0.6514,0.754,0.7626,0.7578,0.7468,0.7832,0.8022,0.7732,0.796,0.7994,0.8038,0.8098,0.7592,0.763,0.803,0.813,0.7358,0.7468,0.746,0.8172,0.8316,0.7518,0.7876,0.7788],\"type\":\"scatter\",\"xaxis\":\"x2\",\"yaxis\":\"y2\"},{\"line\":{\"color\":\"purple\"},\"name\":\"Learning Rate\",\"x\":[1,2,3,4,5,1,2,3,4,5,6,7,8,9,10,11,12,13,14,15,16,17,18,19,20],\"y\":[0.005,0.005,0.005,0.005,0.005,0.005,0.005,0.005,0.005,0.005,0.005,0.005,0.005,0.005,0.005,0.005,0.005,0.005,0.005,0.005,0.005,0.005,0.005,0.005,0.005],\"type\":\"scatter\",\"xaxis\":\"x3\",\"yaxis\":\"y3\"},{\"marker\":{\"color\":\"lightblue\"},\"name\":\"Epoch Time\",\"x\":[1,2,3,4,5,1,2,3,4,5,6,7,8,9,10,11,12,13,14,15,16,17,18,19,20],\"y\":[168.27222728729248,166.62725687026978,168.89044737815857,168.09800171852112,167.7979862689972,164.3131115436554,164.8254005908966,164.83013486862183,165.54416728019714,167.02810716629028,166.62870478630066,165.99292659759521,166.70272827148438,167.4544394016266,166.0767261981964,166.23002529144287,166.5244002342224,167.32198786735535,166.57999539375305,166.10817646980286,166.21906757354736,165.74561738967896,165.5790331363678,166.9542315006256,167.22636222839355],\"type\":\"bar\",\"xaxis\":\"x4\",\"yaxis\":\"y4\"},{\"line\":{\"color\":\"red\"},\"name\":\"Gradient Norm\",\"x\":[1,2,3,4,5,1,2,3,4,5,6,7,8,9,10,11,12,13,14,15,16,17,18,19,20],\"y\":[17.297778117075516,18.150918305843547,8.15266289357876,16.227680557317974,27.24126178072794,10.829638813243298,15.657228109660078,15.294048123485979,19.26389727705701,14.923719986530534,18.007966498720993,8.729151756090783,5.720068674893033,15.136085267070728,3.9585130855297277,19.152318707982683,29.54866989629244,9.825753666618212,21.934822731697192,28.162496536695063,16.810484596007363,19.910903419663093,32.277509666524935,3.882613572090401,10.703581408088823],\"type\":\"scatter\",\"xaxis\":\"x5\",\"yaxis\":\"y5\"},{\"line\":{\"color\":\"blue\"},\"name\":\"Weight Norm\",\"x\":[1,2,3,4,5,1,2,3,4,5,6,7,8,9,10,11,12,13,14,15,16,17,18,19,20],\"y\":[57.22822320197455,48.46956569765951,41.18215499023085,35.16087606532679,30.218205611500622,26.218261108559425,22.995583675029735,20.47154510044182,18.52017291456206,17.06298310581563,16.014924367923776,15.352850079219937,14.93410804324739,14.68567851619536,14.576754469619756,14.507996819878073,14.568848983747609,14.599336149598827,14.622188873494888,14.692284893017979,14.75313155513518,14.827478573327387,14.84996638975411,14.963223543320819,15.022044575372698],\"type\":\"scatter\",\"xaxis\":\"x5\",\"yaxis\":\"y6\"},{\"marker\":{\"color\":[1,2,3,4,5,1,2,3,4,5,6,7,8,9,10,11,12,13,14,15,16,17,18,19,20],\"colorscale\":[[0.0,\"#440154\"],[0.1111111111111111,\"#482878\"],[0.2222222222222222,\"#3e4989\"],[0.3333333333333333,\"#31688e\"],[0.4444444444444444,\"#26828e\"],[0.5555555555555556,\"#1f9e89\"],[0.6666666666666666,\"#35b779\"],[0.7777777777777778,\"#6ece58\"],[0.8888888888888888,\"#b5de2b\"],[1.0,\"#fde725\"]],\"size\":8},\"mode\":\"markers+lines\",\"name\":\"Val Loss vs Acc\",\"text\":[\"Epoch 1\",\"Epoch 2\",\"Epoch 3\",\"Epoch 4\",\"Epoch 5\",\"Epoch 1\",\"Epoch 2\",\"Epoch 3\",\"Epoch 4\",\"Epoch 5\",\"Epoch 6\",\"Epoch 7\",\"Epoch 8\",\"Epoch 9\",\"Epoch 10\",\"Epoch 11\",\"Epoch 12\",\"Epoch 13\",\"Epoch 14\",\"Epoch 15\",\"Epoch 16\",\"Epoch 17\",\"Epoch 18\",\"Epoch 19\",\"Epoch 20\"],\"x\":[1.16960942401886,0.9873155637741089,0.7091292722702026,0.6800682538032532,0.6912616882324218,0.7368261642456054,0.6271655067443848,0.5834294357299805,0.679951402425766,0.5979644714355469,0.5939063961982727,0.5632772290706635,0.5704066603183746,0.6960741286277771,0.7258252748012542,0.6026268452644348,0.5509789314270019,0.8336139955997467,0.7766544528007507,0.8179782648086548,0.5479954277038575,0.5164180721282959,0.8089059620261192,0.6574209207057953,0.7065609624862671],\"y\":[0.5848,0.6514,0.754,0.7626,0.7578,0.7468,0.7832,0.8022,0.7732,0.796,0.7994,0.8038,0.8098,0.7592,0.763,0.803,0.813,0.7358,0.7468,0.746,0.8172,0.8316,0.7518,0.7876,0.7788],\"type\":\"scatter\",\"xaxis\":\"x6\",\"yaxis\":\"y7\"}],                        {\"template\":{\"data\":{\"histogram2dcontour\":[{\"type\":\"histogram2dcontour\",\"colorbar\":{\"outlinewidth\":0,\"ticks\":\"\"},\"colorscale\":[[0.0,\"#0d0887\"],[0.1111111111111111,\"#46039f\"],[0.2222222222222222,\"#7201a8\"],[0.3333333333333333,\"#9c179e\"],[0.4444444444444444,\"#bd3786\"],[0.5555555555555556,\"#d8576b\"],[0.6666666666666666,\"#ed7953\"],[0.7777777777777778,\"#fb9f3a\"],[0.8888888888888888,\"#fdca26\"],[1.0,\"#f0f921\"]]}],\"choropleth\":[{\"type\":\"choropleth\",\"colorbar\":{\"outlinewidth\":0,\"ticks\":\"\"}}],\"histogram2d\":[{\"type\":\"histogram2d\",\"colorbar\":{\"outlinewidth\":0,\"ticks\":\"\"},\"colorscale\":[[0.0,\"#0d0887\"],[0.1111111111111111,\"#46039f\"],[0.2222222222222222,\"#7201a8\"],[0.3333333333333333,\"#9c179e\"],[0.4444444444444444,\"#bd3786\"],[0.5555555555555556,\"#d8576b\"],[0.6666666666666666,\"#ed7953\"],[0.7777777777777778,\"#fb9f3a\"],[0.8888888888888888,\"#fdca26\"],[1.0,\"#f0f921\"]]}],\"heatmap\":[{\"type\":\"heatmap\",\"colorbar\":{\"outlinewidth\":0,\"ticks\":\"\"},\"colorscale\":[[0.0,\"#0d0887\"],[0.1111111111111111,\"#46039f\"],[0.2222222222222222,\"#7201a8\"],[0.3333333333333333,\"#9c179e\"],[0.4444444444444444,\"#bd3786\"],[0.5555555555555556,\"#d8576b\"],[0.6666666666666666,\"#ed7953\"],[0.7777777777777778,\"#fb9f3a\"],[0.8888888888888888,\"#fdca26\"],[1.0,\"#f0f921\"]]}],\"contourcarpet\":[{\"type\":\"contourcarpet\",\"colorbar\":{\"outlinewidth\":0,\"ticks\":\"\"}}],\"contour\":[{\"type\":\"contour\",\"colorbar\":{\"outlinewidth\":0,\"ticks\":\"\"},\"colorscale\":[[0.0,\"#0d0887\"],[0.1111111111111111,\"#46039f\"],[0.2222222222222222,\"#7201a8\"],[0.3333333333333333,\"#9c179e\"],[0.4444444444444444,\"#bd3786\"],[0.5555555555555556,\"#d8576b\"],[0.6666666666666666,\"#ed7953\"],[0.7777777777777778,\"#fb9f3a\"],[0.8888888888888888,\"#fdca26\"],[1.0,\"#f0f921\"]]}],\"surface\":[{\"type\":\"surface\",\"colorbar\":{\"outlinewidth\":0,\"ticks\":\"\"},\"colorscale\":[[0.0,\"#0d0887\"],[0.1111111111111111,\"#46039f\"],[0.2222222222222222,\"#7201a8\"],[0.3333333333333333,\"#9c179e\"],[0.4444444444444444,\"#bd3786\"],[0.5555555555555556,\"#d8576b\"],[0.6666666666666666,\"#ed7953\"],[0.7777777777777778,\"#fb9f3a\"],[0.8888888888888888,\"#fdca26\"],[1.0,\"#f0f921\"]]}],\"mesh3d\":[{\"type\":\"mesh3d\",\"colorbar\":{\"outlinewidth\":0,\"ticks\":\"\"}}],\"scatter\":[{\"fillpattern\":{\"fillmode\":\"overlay\",\"size\":10,\"solidity\":0.2},\"type\":\"scatter\"}],\"parcoords\":[{\"type\":\"parcoords\",\"line\":{\"colorbar\":{\"outlinewidth\":0,\"ticks\":\"\"}}}],\"scatterpolargl\":[{\"type\":\"scatterpolargl\",\"marker\":{\"colorbar\":{\"outlinewidth\":0,\"ticks\":\"\"}}}],\"bar\":[{\"error_x\":{\"color\":\"#2a3f5f\"},\"error_y\":{\"color\":\"#2a3f5f\"},\"marker\":{\"line\":{\"color\":\"#E5ECF6\",\"width\":0.5},\"pattern\":{\"fillmode\":\"overlay\",\"size\":10,\"solidity\":0.2}},\"type\":\"bar\"}],\"scattergeo\":[{\"type\":\"scattergeo\",\"marker\":{\"colorbar\":{\"outlinewidth\":0,\"ticks\":\"\"}}}],\"scatterpolar\":[{\"type\":\"scatterpolar\",\"marker\":{\"colorbar\":{\"outlinewidth\":0,\"ticks\":\"\"}}}],\"histogram\":[{\"marker\":{\"pattern\":{\"fillmode\":\"overlay\",\"size\":10,\"solidity\":0.2}},\"type\":\"histogram\"}],\"scattergl\":[{\"type\":\"scattergl\",\"marker\":{\"colorbar\":{\"outlinewidth\":0,\"ticks\":\"\"}}}],\"scatter3d\":[{\"type\":\"scatter3d\",\"line\":{\"colorbar\":{\"outlinewidth\":0,\"ticks\":\"\"}},\"marker\":{\"colorbar\":{\"outlinewidth\":0,\"ticks\":\"\"}}}],\"scattermap\":[{\"type\":\"scattermap\",\"marker\":{\"colorbar\":{\"outlinewidth\":0,\"ticks\":\"\"}}}],\"scattermapbox\":[{\"type\":\"scattermapbox\",\"marker\":{\"colorbar\":{\"outlinewidth\":0,\"ticks\":\"\"}}}],\"scatterternary\":[{\"type\":\"scatterternary\",\"marker\":{\"colorbar\":{\"outlinewidth\":0,\"ticks\":\"\"}}}],\"scattercarpet\":[{\"type\":\"scattercarpet\",\"marker\":{\"colorbar\":{\"outlinewidth\":0,\"ticks\":\"\"}}}],\"carpet\":[{\"aaxis\":{\"endlinecolor\":\"#2a3f5f\",\"gridcolor\":\"white\",\"linecolor\":\"white\",\"minorgridcolor\":\"white\",\"startlinecolor\":\"#2a3f5f\"},\"baxis\":{\"endlinecolor\":\"#2a3f5f\",\"gridcolor\":\"white\",\"linecolor\":\"white\",\"minorgridcolor\":\"white\",\"startlinecolor\":\"#2a3f5f\"},\"type\":\"carpet\"}],\"table\":[{\"cells\":{\"fill\":{\"color\":\"#EBF0F8\"},\"line\":{\"color\":\"white\"}},\"header\":{\"fill\":{\"color\":\"#C8D4E3\"},\"line\":{\"color\":\"white\"}},\"type\":\"table\"}],\"barpolar\":[{\"marker\":{\"line\":{\"color\":\"#E5ECF6\",\"width\":0.5},\"pattern\":{\"fillmode\":\"overlay\",\"size\":10,\"solidity\":0.2}},\"type\":\"barpolar\"}],\"pie\":[{\"automargin\":true,\"type\":\"pie\"}]},\"layout\":{\"autotypenumbers\":\"strict\",\"colorway\":[\"#636efa\",\"#EF553B\",\"#00cc96\",\"#ab63fa\",\"#FFA15A\",\"#19d3f3\",\"#FF6692\",\"#B6E880\",\"#FF97FF\",\"#FECB52\"],\"font\":{\"color\":\"#2a3f5f\"},\"hovermode\":\"closest\",\"hoverlabel\":{\"align\":\"left\"},\"paper_bgcolor\":\"white\",\"plot_bgcolor\":\"#E5ECF6\",\"polar\":{\"bgcolor\":\"#E5ECF6\",\"angularaxis\":{\"gridcolor\":\"white\",\"linecolor\":\"white\",\"ticks\":\"\"},\"radialaxis\":{\"gridcolor\":\"white\",\"linecolor\":\"white\",\"ticks\":\"\"}},\"ternary\":{\"bgcolor\":\"#E5ECF6\",\"aaxis\":{\"gridcolor\":\"white\",\"linecolor\":\"white\",\"ticks\":\"\"},\"baxis\":{\"gridcolor\":\"white\",\"linecolor\":\"white\",\"ticks\":\"\"},\"caxis\":{\"gridcolor\":\"white\",\"linecolor\":\"white\",\"ticks\":\"\"}},\"coloraxis\":{\"colorbar\":{\"outlinewidth\":0,\"ticks\":\"\"}},\"colorscale\":{\"sequential\":[[0.0,\"#0d0887\"],[0.1111111111111111,\"#46039f\"],[0.2222222222222222,\"#7201a8\"],[0.3333333333333333,\"#9c179e\"],[0.4444444444444444,\"#bd3786\"],[0.5555555555555556,\"#d8576b\"],[0.6666666666666666,\"#ed7953\"],[0.7777777777777778,\"#fb9f3a\"],[0.8888888888888888,\"#fdca26\"],[1.0,\"#f0f921\"]],\"sequentialminus\":[[0.0,\"#0d0887\"],[0.1111111111111111,\"#46039f\"],[0.2222222222222222,\"#7201a8\"],[0.3333333333333333,\"#9c179e\"],[0.4444444444444444,\"#bd3786\"],[0.5555555555555556,\"#d8576b\"],[0.6666666666666666,\"#ed7953\"],[0.7777777777777778,\"#fb9f3a\"],[0.8888888888888888,\"#fdca26\"],[1.0,\"#f0f921\"]],\"diverging\":[[0,\"#8e0152\"],[0.1,\"#c51b7d\"],[0.2,\"#de77ae\"],[0.3,\"#f1b6da\"],[0.4,\"#fde0ef\"],[0.5,\"#f7f7f7\"],[0.6,\"#e6f5d0\"],[0.7,\"#b8e186\"],[0.8,\"#7fbc41\"],[0.9,\"#4d9221\"],[1,\"#276419\"]]},\"xaxis\":{\"gridcolor\":\"white\",\"linecolor\":\"white\",\"ticks\":\"\",\"title\":{\"standoff\":15},\"zerolinecolor\":\"white\",\"automargin\":true,\"zerolinewidth\":2},\"yaxis\":{\"gridcolor\":\"white\",\"linecolor\":\"white\",\"ticks\":\"\",\"title\":{\"standoff\":15},\"zerolinecolor\":\"white\",\"automargin\":true,\"zerolinewidth\":2},\"scene\":{\"xaxis\":{\"backgroundcolor\":\"#E5ECF6\",\"gridcolor\":\"white\",\"linecolor\":\"white\",\"showbackground\":true,\"ticks\":\"\",\"zerolinecolor\":\"white\",\"gridwidth\":2},\"yaxis\":{\"backgroundcolor\":\"#E5ECF6\",\"gridcolor\":\"white\",\"linecolor\":\"white\",\"showbackground\":true,\"ticks\":\"\",\"zerolinecolor\":\"white\",\"gridwidth\":2},\"zaxis\":{\"backgroundcolor\":\"#E5ECF6\",\"gridcolor\":\"white\",\"linecolor\":\"white\",\"showbackground\":true,\"ticks\":\"\",\"zerolinecolor\":\"white\",\"gridwidth\":2}},\"shapedefaults\":{\"line\":{\"color\":\"#2a3f5f\"}},\"annotationdefaults\":{\"arrowcolor\":\"#2a3f5f\",\"arrowhead\":0,\"arrowwidth\":1},\"geo\":{\"bgcolor\":\"white\",\"landcolor\":\"#E5ECF6\",\"subunitcolor\":\"white\",\"showland\":true,\"showlakes\":true,\"lakecolor\":\"white\"},\"title\":{\"x\":0.05},\"mapbox\":{\"style\":\"light\"}}},\"xaxis\":{\"anchor\":\"y\",\"domain\":[0.0,0.37]},\"yaxis\":{\"anchor\":\"x\",\"domain\":[0.7777777777777778,1.0],\"title\":{\"text\":\"Loss\"}},\"xaxis2\":{\"anchor\":\"y2\",\"domain\":[0.5700000000000001,0.9400000000000001]},\"yaxis2\":{\"anchor\":\"x2\",\"domain\":[0.7777777777777778,1.0],\"title\":{\"text\":\"Accuracy\"}},\"xaxis3\":{\"anchor\":\"y3\",\"domain\":[0.0,0.37]},\"yaxis3\":{\"anchor\":\"x3\",\"domain\":[0.3888888888888889,0.6111111111111112],\"title\":{\"text\":\"Learning Rate\"}},\"xaxis4\":{\"anchor\":\"y4\",\"domain\":[0.5700000000000001,0.9400000000000001]},\"yaxis4\":{\"anchor\":\"x4\",\"domain\":[0.3888888888888889,0.6111111111111112],\"title\":{\"text\":\"Time (seconds)\"}},\"xaxis5\":{\"anchor\":\"y5\",\"domain\":[0.0,0.37]},\"yaxis5\":{\"anchor\":\"x5\",\"domain\":[0.0,0.22222222222222224],\"title\":{\"text\":\"Gradient Norm\"}},\"yaxis6\":{\"anchor\":\"x5\",\"overlaying\":\"y5\",\"side\":\"right\",\"title\":{\"text\":\"Weight Norm\"}},\"xaxis6\":{\"anchor\":\"y7\",\"domain\":[0.5700000000000001,0.9400000000000001],\"title\":{\"text\":\"Validation Loss\"}},\"yaxis7\":{\"anchor\":\"x6\",\"domain\":[0.0,0.22222222222222224],\"title\":{\"text\":\"Validation Accuracy\"}},\"annotations\":[{\"font\":{\"size\":16},\"showarrow\":false,\"text\":\"Loss Curves\",\"x\":0.185,\"xanchor\":\"center\",\"xref\":\"paper\",\"y\":1.0,\"yanchor\":\"bottom\",\"yref\":\"paper\"},{\"font\":{\"size\":16},\"showarrow\":false,\"text\":\"Accuracy Curves\",\"x\":0.7550000000000001,\"xanchor\":\"center\",\"xref\":\"paper\",\"y\":1.0,\"yanchor\":\"bottom\",\"yref\":\"paper\"},{\"font\":{\"size\":16},\"showarrow\":false,\"text\":\"Learning Rate Schedule\",\"x\":0.185,\"xanchor\":\"center\",\"xref\":\"paper\",\"y\":0.6111111111111112,\"yanchor\":\"bottom\",\"yref\":\"paper\"},{\"font\":{\"size\":16},\"showarrow\":false,\"text\":\"Training Time per Epoch\",\"x\":0.7550000000000001,\"xanchor\":\"center\",\"xref\":\"paper\",\"y\":0.6111111111111112,\"yanchor\":\"bottom\",\"yref\":\"paper\"},{\"font\":{\"size\":16},\"showarrow\":false,\"text\":\"Gradient & Weight Norms\",\"x\":0.185,\"xanchor\":\"center\",\"xref\":\"paper\",\"y\":0.22222222222222224,\"yanchor\":\"bottom\",\"yref\":\"paper\"},{\"font\":{\"size\":16},\"showarrow\":false,\"text\":\"Loss vs Accuracy Correlation\",\"x\":0.7550000000000001,\"xanchor\":\"center\",\"xref\":\"paper\",\"y\":0.22222222222222224,\"yanchor\":\"bottom\",\"yref\":\"paper\"}],\"title\":{\"text\":\"AlexNet Training Dashboard\"},\"height\":1200,\"showlegend\":true},                        {\"responsive\": true}                    ).then(function(){\n",
              "                            \n",
              "var gd = document.getElementById('1320f786-4a9c-4e52-ae0c-b5a6151d5e02');\n",
              "var x = new MutationObserver(function (mutations, observer) {{\n",
              "        var display = window.getComputedStyle(gd).display;\n",
              "        if (!display || display === 'none') {{\n",
              "            console.log([gd, 'removed!']);\n",
              "            Plotly.purge(gd);\n",
              "            observer.disconnect();\n",
              "        }}\n",
              "}});\n",
              "\n",
              "// Listen for the removal of the full notebook cells\n",
              "var notebookContainer = gd.closest('#notebook-container');\n",
              "if (notebookContainer) {{\n",
              "    x.observe(notebookContainer, {childList: true});\n",
              "}}\n",
              "\n",
              "// Listen for the clearing of the current output cell\n",
              "var outputEl = gd.closest('.output');\n",
              "if (outputEl) {{\n",
              "    x.observe(outputEl, {childList: true});\n",
              "}}\n",
              "\n",
              "                        })                };            </script>        </div>\n",
              "</body>\n",
              "</html>"
            ]
          },
          "metadata": {}
        }
      ],
      "source": [
        "# Advanced Plotly Visualizations\n",
        "\n",
        "def create_training_dashboard():\n",
        "    \"\"\"Create comprehensive training dashboard with multiple plots\"\"\"\n",
        "\n",
        "    # Create subplot figure\n",
        "    fig = make_subplots(\n",
        "        rows=3, cols=2,\n",
        "        subplot_titles=('Loss Curves', 'Accuracy Curves',\n",
        "                       'Learning Rate Schedule', 'Training Time per Epoch',\n",
        "                       'Gradient & Weight Norms', 'Loss vs Accuracy Correlation'),\n",
        "        specs=[[{\"secondary_y\": False}, {\"secondary_y\": False}],\n",
        "               [{\"secondary_y\": False}, {\"secondary_y\": False}],\n",
        "               [{\"secondary_y\": True}, {\"secondary_y\": False}]]\n",
        "    )\n",
        "\n",
        "    epochs = training_metrics['epoch']\n",
        "\n",
        "    # 1. Loss Curves\n",
        "    fig.add_trace(\n",
        "        go.Scatter(x=epochs, y=training_metrics['train_loss'],\n",
        "                  name='Training Loss', line=dict(color='red')),\n",
        "        row=1, col=1\n",
        "    )\n",
        "    fig.add_trace(\n",
        "        go.Scatter(x=epochs, y=training_metrics['val_loss'],\n",
        "                  name='Validation Loss', line=dict(color='blue')),\n",
        "        row=1, col=1\n",
        "    )\n",
        "\n",
        "    # 2. Accuracy Curves\n",
        "    fig.add_trace(\n",
        "        go.Scatter(x=epochs, y=training_metrics['train_acc'],\n",
        "                  name='Training Accuracy', line=dict(color='green')),\n",
        "        row=1, col=2\n",
        "    )\n",
        "    fig.add_trace(\n",
        "        go.Scatter(x=epochs, y=training_metrics['val_acc'],\n",
        "                  name='Validation Accuracy', line=dict(color='orange')),\n",
        "        row=1, col=2\n",
        "    )\n",
        "\n",
        "\n",
        "    # 3. Training Time per Epoch\n",
        "    fig.add_trace(\n",
        "        go.Bar(x=epochs, y=training_metrics['epoch_time'],\n",
        "               name='Epoch Time', marker_color='lightblue'),\n",
        "        row=2, col=1\n",
        "    )\n",
        "\n",
        "    # 4. Gradient & Weight Norms\n",
        "    fig.add_trace(\n",
        "        go.Scatter(x=epochs, y=training_metrics['gradient_norm'],\n",
        "                  name='Gradient Norm', line=dict(color='red')),\n",
        "        row=2, col=2\n",
        "    )\n",
        "    fig.add_trace(\n",
        "        go.Scatter(x=epochs, y=training_metrics['weight_norm'],\n",
        "                  name='Weight Norm', line=dict(color='blue')),\n",
        "        row=2, col=2, secondary_y=True\n",
        "    )\n",
        "\n",
        "\n",
        "    # Update layout\n",
        "    fig.update_layout(\n",
        "        height=1200,\n",
        "        title_text=\"AlexNet Training Dashboard\",\n",
        "        showlegend=True\n",
        "    )\n",
        "\n",
        "    # Update y-axis titles\n",
        "    fig.update_yaxes(title_text=\"Loss\", row=1, col=1)\n",
        "    fig.update_yaxes(title_text=\"Accuracy\", row=1, col=2)\n",
        "    # fig.update_yaxes(title_text=\"Learning Rate\", row=2, col=1)\n",
        "    fig.update_yaxes(title_text=\"Time (seconds)\", row=2, col=1)\n",
        "    fig.update_yaxes(title_text=\"Gradient Norm\", row=3, col=1)\n",
        "    fig.update_yaxes(title_text=\"Weight Norm\", row=2, col=2, secondary_y=True)\n",
        "    # fig.update_yaxes(title_text=\"Validation Accuracy\", row=3, col=2)\n",
        "    # fig.update_xaxes(title_text=\"Validation Loss\", row=3, col=2)\n",
        "\n",
        "    return fig\n",
        "\n",
        "# Create and display the dashboard\n",
        "dashboard_fig = create_training_dashboard()\n",
        "dashboard_fig.show()"
      ]
    },
    {
      "cell_type": "code",
      "execution_count": 25,
      "id": "bd7c526a",
      "metadata": {
        "colab": {
          "base_uri": "https://localhost:8080/",
          "height": 817
        },
        "id": "bd7c526a",
        "outputId": "f89bc07c-7ffb-453d-d7ff-1e8ff7f9e07c"
      },
      "outputs": [
        {
          "output_type": "display_data",
          "data": {
            "text/html": [
              "<html>\n",
              "<head><meta charset=\"utf-8\" /></head>\n",
              "<body>\n",
              "    <div>            <script src=\"https://cdnjs.cloudflare.com/ajax/libs/mathjax/2.7.5/MathJax.js?config=TeX-AMS-MML_SVG\"></script><script type=\"text/javascript\">if (window.MathJax && window.MathJax.Hub && window.MathJax.Hub.Config) {window.MathJax.Hub.Config({SVG: {font: \"STIX-Web\"}});}</script>                <script type=\"text/javascript\">window.PlotlyConfig = {MathJaxConfig: 'local'};</script>\n",
              "        <script charset=\"utf-8\" src=\"https://cdn.plot.ly/plotly-3.1.1.min.js\" integrity=\"sha256-HUEFyfiTnZJxCxur99FjbKYTvKSzwDaD3/x5TqHpFu4=\" crossorigin=\"anonymous\"></script>                <div id=\"3c0a5b28-442e-4475-a63f-ce2e3dbf7d4d\" class=\"plotly-graph-div\" style=\"height:800px; width:100%;\"></div>            <script type=\"text/javascript\">                window.PLOTLYENV=window.PLOTLYENV || {};                                if (document.getElementById(\"3c0a5b28-442e-4475-a63f-ce2e3dbf7d4d\")) {                    Plotly.newPlot(                        \"3c0a5b28-442e-4475-a63f-ce2e3dbf7d4d\",                        [{\"fill\":\"tozeroy\",\"fillcolor\":\"rgba(255,0,0,0.2)\",\"line\":{\"color\":\"red\"},\"name\":\"Train-Val Gap\",\"x\":[1,2,3,4,5,1,2,3,4,5,6,7,8,9,10,11,12,13,14,15,16,17,18,19,20],\"y\":[-0.09766666666666668,0.002555555555555533,-0.04133333333333333,-0.012911111111111095,0.015222222222222248,0.04273333333333329,0.023644444444444468,0.019444444444444375,0.058911111111111136,0.04708888888888885,0.05308888888888885,0.05588888888888888,0.056400000000000006,0.10962222222222229,0.11266666666666669,0.08186666666666664,0.06904444444444446,0.14793333333333336,0.13911111111111107,0.14355555555555555,0.07584444444444438,0.06333333333333335,0.1476666666666666,0.10984444444444452,0.12388888888888883],\"type\":\"scatter\",\"xaxis\":\"x\",\"yaxis\":\"y\"},{\"line\":{\"color\":\"green\"},\"name\":\"Training Efficiency\",\"x\":[1,2,3,4,5,1,2,3,4,5,6,7,8,9,10,11,12,13,14,15,16,17,18,19,20],\"y\":[0.0,0.00039969451127586195,0.001001832860452719,0.0010577163213262033,0.0010310016457686416,0.0009859225382446682,0.0012036979694193914,0.0013189335807634879,0.0011380648626605943,0.0012644578423542392,0.0012878933451185494,0.0013193333263585745,0.0013497079641886566,0.0010414773154010866,0.0010729980297620732,0.0013126389147654933,0.001370369745689092,0.000902451625901704,0.0009725057298571353,0.0009704519273276406,0.0013981548771302634,0.0014890288134723757,0.0010085818043306363,0.0012147041627947,0.0011601041690725757],\"type\":\"scatter\",\"xaxis\":\"x2\",\"yaxis\":\"y2\"},{\"line\":{\"color\":\"blue\"},\"name\":\"Loss Reduction\",\"x\":[1,2,3,4,5,1,2,3,4,5,6,7,8,9,10,11,12,13,14,15,16,17,18,19,20],\"y\":[0.0,0.18229386024475103,0.4604801517486573,0.4895411702156067,0.4783477357864381,0.4327832597732545,0.5424439172744752,0.5861799882888794,0.4896580215930939,0.571644952583313,0.5757030278205872,0.6063321949481965,0.5992027637004853,0.47353529539108286,0.4437841492176057,0.5669825787544251,0.618630492591858,0.33599542841911323,0.3929549712181092,0.35163115921020516,0.6216139963150025,0.653191351890564,0.3607034619927407,0.5121885033130646,0.4630484615325928],\"type\":\"scatter\",\"xaxis\":\"x3\",\"yaxis\":\"y3\"},{\"colorscale\":[[0.0,\"rgb(103,0,31)\"],[0.1,\"rgb(178,24,43)\"],[0.2,\"rgb(214,96,77)\"],[0.3,\"rgb(244,165,130)\"],[0.4,\"rgb(253,219,199)\"],[0.5,\"rgb(247,247,247)\"],[0.6,\"rgb(209,229,240)\"],[0.7,\"rgb(146,197,222)\"],[0.8,\"rgb(67,147,195)\"],[0.9,\"rgb(33,102,172)\"],[1.0,\"rgb(5,48,97)\"]],\"text\":{\"dtype\":\"f8\",\"bdata\":\"AAAAAAAA8D\\u002fAwQihyZflPy5CRk7C\\u002fO+\\u002fFakIecGI6b+Sof7K7Lqbv09eI\\u002f41N+8\\u002f5J3rZGHG2D\\u002fAwQihyZflPwAAAAAAAPA\\u002f+M0GfLD35b+Xvu3urk\\u002fvv0QoqjKFN7w\\u002fIa2t4pKt5T8nSbmUtBjUPy5CRk7C\\u002fO+\\u002f+M0GfLD35b8AAAAAAADwPwE2O\\u002fmj1ek\\u002f7wZWpT\\u002fplT9OII\\u002fjeSjvvyt7IOpHA9m\\u002fFakIecGI6b+Xvu3urk\\u002fvvwE2O\\u002fmj1ek\\u002fAAAAAAAA8D8+VSDhHwGzvxP6PtgmROm\\u002fxT7fpGJ21r+Sof7K7Lqbv0QoqjKFN7w\\u002f7wZWpT\\u002fplT8+VSDhHwGzvwAAAAAAAPA\\u002fE4orQh0Jdr+iahpiA4+9v09eI\\u002f41N+8\\u002fIa2t4pKt5T9OII\\u002fjeSjvvxP6PtgmROm\\u002fE4orQh0Jdr8AAAAAAADwP64naKYmBNw\\u002f5J3rZGHG2D8nSbmUtBjUPyt7IOpHA9m\\u002fxT7fpGJ21r+iahpiA4+9v64naKYmBNw\\u002fAAAAAAAA8D8=\",\"shape\":\"7, 7\"},\"textfont\":{\"size\":10},\"texttemplate\":\"%{text:.2f}\",\"x\":[\"train_loss\",\"val_loss\",\"train_acc\",\"val_acc\",\"gradient_norm\",\"weight_norm\",\"epoch_time\"],\"y\":[\"train_loss\",\"val_loss\",\"train_acc\",\"val_acc\",\"gradient_norm\",\"weight_norm\",\"epoch_time\"],\"z\":{\"dtype\":\"f8\",\"bdata\":\"AAAAAAAA8D\\u002fAwQihyZflPy5CRk7C\\u002fO+\\u002fFakIecGI6b+Sof7K7Lqbv09eI\\u002f41N+8\\u002f5J3rZGHG2D\\u002fAwQihyZflPwAAAAAAAPA\\u002f+M0GfLD35b+Xvu3urk\\u002fvv0QoqjKFN7w\\u002fIa2t4pKt5T8nSbmUtBjUPy5CRk7C\\u002fO+\\u002f+M0GfLD35b8AAAAAAADwPwE2O\\u002fmj1ek\\u002f7wZWpT\\u002fplT9OII\\u002fjeSjvvyt7IOpHA9m\\u002fFakIecGI6b+Xvu3urk\\u002fvvwE2O\\u002fmj1ek\\u002fAAAAAAAA8D8+VSDhHwGzvxP6PtgmROm\\u002fxT7fpGJ21r+Sof7K7Lqbv0QoqjKFN7w\\u002f7wZWpT\\u002fplT8+VSDhHwGzvwAAAAAAAPA\\u002fE4orQh0Jdr+iahpiA4+9v09eI\\u002f41N+8\\u002fIa2t4pKt5T9OII\\u002fjeSjvvxP6PtgmROm\\u002fE4orQh0Jdr8AAAAAAADwP64naKYmBNw\\u002f5J3rZGHG2D8nSbmUtBjUPyt7IOpHA9m\\u002fxT7fpGJ21r+iahpiA4+9v64naKYmBNw\\u002fAAAAAAAA8D8=\",\"shape\":\"7, 7\"},\"type\":\"heatmap\",\"xaxis\":\"x4\",\"yaxis\":\"y4\"}],                        {\"template\":{\"data\":{\"histogram2dcontour\":[{\"type\":\"histogram2dcontour\",\"colorbar\":{\"outlinewidth\":0,\"ticks\":\"\"},\"colorscale\":[[0.0,\"#0d0887\"],[0.1111111111111111,\"#46039f\"],[0.2222222222222222,\"#7201a8\"],[0.3333333333333333,\"#9c179e\"],[0.4444444444444444,\"#bd3786\"],[0.5555555555555556,\"#d8576b\"],[0.6666666666666666,\"#ed7953\"],[0.7777777777777778,\"#fb9f3a\"],[0.8888888888888888,\"#fdca26\"],[1.0,\"#f0f921\"]]}],\"choropleth\":[{\"type\":\"choropleth\",\"colorbar\":{\"outlinewidth\":0,\"ticks\":\"\"}}],\"histogram2d\":[{\"type\":\"histogram2d\",\"colorbar\":{\"outlinewidth\":0,\"ticks\":\"\"},\"colorscale\":[[0.0,\"#0d0887\"],[0.1111111111111111,\"#46039f\"],[0.2222222222222222,\"#7201a8\"],[0.3333333333333333,\"#9c179e\"],[0.4444444444444444,\"#bd3786\"],[0.5555555555555556,\"#d8576b\"],[0.6666666666666666,\"#ed7953\"],[0.7777777777777778,\"#fb9f3a\"],[0.8888888888888888,\"#fdca26\"],[1.0,\"#f0f921\"]]}],\"heatmap\":[{\"type\":\"heatmap\",\"colorbar\":{\"outlinewidth\":0,\"ticks\":\"\"},\"colorscale\":[[0.0,\"#0d0887\"],[0.1111111111111111,\"#46039f\"],[0.2222222222222222,\"#7201a8\"],[0.3333333333333333,\"#9c179e\"],[0.4444444444444444,\"#bd3786\"],[0.5555555555555556,\"#d8576b\"],[0.6666666666666666,\"#ed7953\"],[0.7777777777777778,\"#fb9f3a\"],[0.8888888888888888,\"#fdca26\"],[1.0,\"#f0f921\"]]}],\"contourcarpet\":[{\"type\":\"contourcarpet\",\"colorbar\":{\"outlinewidth\":0,\"ticks\":\"\"}}],\"contour\":[{\"type\":\"contour\",\"colorbar\":{\"outlinewidth\":0,\"ticks\":\"\"},\"colorscale\":[[0.0,\"#0d0887\"],[0.1111111111111111,\"#46039f\"],[0.2222222222222222,\"#7201a8\"],[0.3333333333333333,\"#9c179e\"],[0.4444444444444444,\"#bd3786\"],[0.5555555555555556,\"#d8576b\"],[0.6666666666666666,\"#ed7953\"],[0.7777777777777778,\"#fb9f3a\"],[0.8888888888888888,\"#fdca26\"],[1.0,\"#f0f921\"]]}],\"surface\":[{\"type\":\"surface\",\"colorbar\":{\"outlinewidth\":0,\"ticks\":\"\"},\"colorscale\":[[0.0,\"#0d0887\"],[0.1111111111111111,\"#46039f\"],[0.2222222222222222,\"#7201a8\"],[0.3333333333333333,\"#9c179e\"],[0.4444444444444444,\"#bd3786\"],[0.5555555555555556,\"#d8576b\"],[0.6666666666666666,\"#ed7953\"],[0.7777777777777778,\"#fb9f3a\"],[0.8888888888888888,\"#fdca26\"],[1.0,\"#f0f921\"]]}],\"mesh3d\":[{\"type\":\"mesh3d\",\"colorbar\":{\"outlinewidth\":0,\"ticks\":\"\"}}],\"scatter\":[{\"fillpattern\":{\"fillmode\":\"overlay\",\"size\":10,\"solidity\":0.2},\"type\":\"scatter\"}],\"parcoords\":[{\"type\":\"parcoords\",\"line\":{\"colorbar\":{\"outlinewidth\":0,\"ticks\":\"\"}}}],\"scatterpolargl\":[{\"type\":\"scatterpolargl\",\"marker\":{\"colorbar\":{\"outlinewidth\":0,\"ticks\":\"\"}}}],\"bar\":[{\"error_x\":{\"color\":\"#2a3f5f\"},\"error_y\":{\"color\":\"#2a3f5f\"},\"marker\":{\"line\":{\"color\":\"#E5ECF6\",\"width\":0.5},\"pattern\":{\"fillmode\":\"overlay\",\"size\":10,\"solidity\":0.2}},\"type\":\"bar\"}],\"scattergeo\":[{\"type\":\"scattergeo\",\"marker\":{\"colorbar\":{\"outlinewidth\":0,\"ticks\":\"\"}}}],\"scatterpolar\":[{\"type\":\"scatterpolar\",\"marker\":{\"colorbar\":{\"outlinewidth\":0,\"ticks\":\"\"}}}],\"histogram\":[{\"marker\":{\"pattern\":{\"fillmode\":\"overlay\",\"size\":10,\"solidity\":0.2}},\"type\":\"histogram\"}],\"scattergl\":[{\"type\":\"scattergl\",\"marker\":{\"colorbar\":{\"outlinewidth\":0,\"ticks\":\"\"}}}],\"scatter3d\":[{\"type\":\"scatter3d\",\"line\":{\"colorbar\":{\"outlinewidth\":0,\"ticks\":\"\"}},\"marker\":{\"colorbar\":{\"outlinewidth\":0,\"ticks\":\"\"}}}],\"scattermap\":[{\"type\":\"scattermap\",\"marker\":{\"colorbar\":{\"outlinewidth\":0,\"ticks\":\"\"}}}],\"scattermapbox\":[{\"type\":\"scattermapbox\",\"marker\":{\"colorbar\":{\"outlinewidth\":0,\"ticks\":\"\"}}}],\"scatterternary\":[{\"type\":\"scatterternary\",\"marker\":{\"colorbar\":{\"outlinewidth\":0,\"ticks\":\"\"}}}],\"scattercarpet\":[{\"type\":\"scattercarpet\",\"marker\":{\"colorbar\":{\"outlinewidth\":0,\"ticks\":\"\"}}}],\"carpet\":[{\"aaxis\":{\"endlinecolor\":\"#2a3f5f\",\"gridcolor\":\"white\",\"linecolor\":\"white\",\"minorgridcolor\":\"white\",\"startlinecolor\":\"#2a3f5f\"},\"baxis\":{\"endlinecolor\":\"#2a3f5f\",\"gridcolor\":\"white\",\"linecolor\":\"white\",\"minorgridcolor\":\"white\",\"startlinecolor\":\"#2a3f5f\"},\"type\":\"carpet\"}],\"table\":[{\"cells\":{\"fill\":{\"color\":\"#EBF0F8\"},\"line\":{\"color\":\"white\"}},\"header\":{\"fill\":{\"color\":\"#C8D4E3\"},\"line\":{\"color\":\"white\"}},\"type\":\"table\"}],\"barpolar\":[{\"marker\":{\"line\":{\"color\":\"#E5ECF6\",\"width\":0.5},\"pattern\":{\"fillmode\":\"overlay\",\"size\":10,\"solidity\":0.2}},\"type\":\"barpolar\"}],\"pie\":[{\"automargin\":true,\"type\":\"pie\"}]},\"layout\":{\"autotypenumbers\":\"strict\",\"colorway\":[\"#636efa\",\"#EF553B\",\"#00cc96\",\"#ab63fa\",\"#FFA15A\",\"#19d3f3\",\"#FF6692\",\"#B6E880\",\"#FF97FF\",\"#FECB52\"],\"font\":{\"color\":\"#2a3f5f\"},\"hovermode\":\"closest\",\"hoverlabel\":{\"align\":\"left\"},\"paper_bgcolor\":\"white\",\"plot_bgcolor\":\"#E5ECF6\",\"polar\":{\"bgcolor\":\"#E5ECF6\",\"angularaxis\":{\"gridcolor\":\"white\",\"linecolor\":\"white\",\"ticks\":\"\"},\"radialaxis\":{\"gridcolor\":\"white\",\"linecolor\":\"white\",\"ticks\":\"\"}},\"ternary\":{\"bgcolor\":\"#E5ECF6\",\"aaxis\":{\"gridcolor\":\"white\",\"linecolor\":\"white\",\"ticks\":\"\"},\"baxis\":{\"gridcolor\":\"white\",\"linecolor\":\"white\",\"ticks\":\"\"},\"caxis\":{\"gridcolor\":\"white\",\"linecolor\":\"white\",\"ticks\":\"\"}},\"coloraxis\":{\"colorbar\":{\"outlinewidth\":0,\"ticks\":\"\"}},\"colorscale\":{\"sequential\":[[0.0,\"#0d0887\"],[0.1111111111111111,\"#46039f\"],[0.2222222222222222,\"#7201a8\"],[0.3333333333333333,\"#9c179e\"],[0.4444444444444444,\"#bd3786\"],[0.5555555555555556,\"#d8576b\"],[0.6666666666666666,\"#ed7953\"],[0.7777777777777778,\"#fb9f3a\"],[0.8888888888888888,\"#fdca26\"],[1.0,\"#f0f921\"]],\"sequentialminus\":[[0.0,\"#0d0887\"],[0.1111111111111111,\"#46039f\"],[0.2222222222222222,\"#7201a8\"],[0.3333333333333333,\"#9c179e\"],[0.4444444444444444,\"#bd3786\"],[0.5555555555555556,\"#d8576b\"],[0.6666666666666666,\"#ed7953\"],[0.7777777777777778,\"#fb9f3a\"],[0.8888888888888888,\"#fdca26\"],[1.0,\"#f0f921\"]],\"diverging\":[[0,\"#8e0152\"],[0.1,\"#c51b7d\"],[0.2,\"#de77ae\"],[0.3,\"#f1b6da\"],[0.4,\"#fde0ef\"],[0.5,\"#f7f7f7\"],[0.6,\"#e6f5d0\"],[0.7,\"#b8e186\"],[0.8,\"#7fbc41\"],[0.9,\"#4d9221\"],[1,\"#276419\"]]},\"xaxis\":{\"gridcolor\":\"white\",\"linecolor\":\"white\",\"ticks\":\"\",\"title\":{\"standoff\":15},\"zerolinecolor\":\"white\",\"automargin\":true,\"zerolinewidth\":2},\"yaxis\":{\"gridcolor\":\"white\",\"linecolor\":\"white\",\"ticks\":\"\",\"title\":{\"standoff\":15},\"zerolinecolor\":\"white\",\"automargin\":true,\"zerolinewidth\":2},\"scene\":{\"xaxis\":{\"backgroundcolor\":\"#E5ECF6\",\"gridcolor\":\"white\",\"linecolor\":\"white\",\"showbackground\":true,\"ticks\":\"\",\"zerolinecolor\":\"white\",\"gridwidth\":2},\"yaxis\":{\"backgroundcolor\":\"#E5ECF6\",\"gridcolor\":\"white\",\"linecolor\":\"white\",\"showbackground\":true,\"ticks\":\"\",\"zerolinecolor\":\"white\",\"gridwidth\":2},\"zaxis\":{\"backgroundcolor\":\"#E5ECF6\",\"gridcolor\":\"white\",\"linecolor\":\"white\",\"showbackground\":true,\"ticks\":\"\",\"zerolinecolor\":\"white\",\"gridwidth\":2}},\"shapedefaults\":{\"line\":{\"color\":\"#2a3f5f\"}},\"annotationdefaults\":{\"arrowcolor\":\"#2a3f5f\",\"arrowhead\":0,\"arrowwidth\":1},\"geo\":{\"bgcolor\":\"white\",\"landcolor\":\"#E5ECF6\",\"subunitcolor\":\"white\",\"showland\":true,\"showlakes\":true,\"lakecolor\":\"white\"},\"title\":{\"x\":0.05},\"mapbox\":{\"style\":\"light\"}}},\"xaxis\":{\"anchor\":\"y\",\"domain\":[0.0,0.45]},\"yaxis\":{\"anchor\":\"x\",\"domain\":[0.625,1.0],\"title\":{\"text\":\"Accuracy Gap\"}},\"xaxis2\":{\"anchor\":\"y2\",\"domain\":[0.55,1.0]},\"yaxis2\":{\"anchor\":\"x2\",\"domain\":[0.625,1.0],\"title\":{\"text\":\"Acc\\u002fTime\"}},\"xaxis3\":{\"anchor\":\"y3\",\"domain\":[0.0,0.45]},\"yaxis3\":{\"anchor\":\"x3\",\"domain\":[0.0,0.375],\"title\":{\"text\":\"Loss Reduction\"}},\"xaxis4\":{\"anchor\":\"y4\",\"domain\":[0.55,1.0]},\"yaxis4\":{\"anchor\":\"x4\",\"domain\":[0.0,0.375]},\"annotations\":[{\"font\":{\"size\":16},\"showarrow\":false,\"text\":\"Overfitting Analysis\",\"x\":0.225,\"xanchor\":\"center\",\"xref\":\"paper\",\"y\":1.0,\"yanchor\":\"bottom\",\"yref\":\"paper\"},{\"font\":{\"size\":16},\"showarrow\":false,\"text\":\"Training Efficiency\",\"x\":0.775,\"xanchor\":\"center\",\"xref\":\"paper\",\"y\":1.0,\"yanchor\":\"bottom\",\"yref\":\"paper\"},{\"font\":{\"size\":16},\"showarrow\":false,\"text\":\"Convergence Rate\",\"x\":0.225,\"xanchor\":\"center\",\"xref\":\"paper\",\"y\":0.375,\"yanchor\":\"bottom\",\"yref\":\"paper\"},{\"font\":{\"size\":16},\"showarrow\":false,\"text\":\"Performance Metrics Heatmap\",\"x\":0.775,\"xanchor\":\"center\",\"xref\":\"paper\",\"y\":0.375,\"yanchor\":\"bottom\",\"yref\":\"paper\"}],\"title\":{\"text\":\"Advanced Performance Analysis\"},\"height\":800,\"showlegend\":true},                        {\"responsive\": true}                    ).then(function(){\n",
              "                            \n",
              "var gd = document.getElementById('3c0a5b28-442e-4475-a63f-ce2e3dbf7d4d');\n",
              "var x = new MutationObserver(function (mutations, observer) {{\n",
              "        var display = window.getComputedStyle(gd).display;\n",
              "        if (!display || display === 'none') {{\n",
              "            console.log([gd, 'removed!']);\n",
              "            Plotly.purge(gd);\n",
              "            observer.disconnect();\n",
              "        }}\n",
              "}});\n",
              "\n",
              "// Listen for the removal of the full notebook cells\n",
              "var notebookContainer = gd.closest('#notebook-container');\n",
              "if (notebookContainer) {{\n",
              "    x.observe(notebookContainer, {childList: true});\n",
              "}}\n",
              "\n",
              "// Listen for the clearing of the current output cell\n",
              "var outputEl = gd.closest('.output');\n",
              "if (outputEl) {{\n",
              "    x.observe(outputEl, {childList: true});\n",
              "}}\n",
              "\n",
              "                        })                };            </script>        </div>\n",
              "</body>\n",
              "</html>"
            ]
          },
          "metadata": {}
        }
      ],
      "source": [
        "# Advanced Performance Analysis\n",
        "def create_performance_insights():\n",
        "    \"\"\"Create advanced performance analysis plots\"\"\"\n",
        "\n",
        "    fig = make_subplots(\n",
        "        rows=2, cols=2,\n",
        "        subplot_titles=('Overfitting Analysis', 'Training Efficiency',\n",
        "                       'Convergence Rate', 'Performance Metrics Heatmap')\n",
        "    )\n",
        "\n",
        "    epochs = training_metrics['epoch']\n",
        "\n",
        "    # 1. Overfitting Analysis (Gap between train and val)\n",
        "    train_val_gap = [t - v for t, v in zip(training_metrics['train_acc'], training_metrics['val_acc'])]\n",
        "\n",
        "    fig.add_trace(\n",
        "        go.Scatter(x=epochs, y=train_val_gap,\n",
        "                  name='Train-Val Gap', line=dict(color='red'),\n",
        "                  fill='tozeroy', fillcolor='rgba(255,0,0,0.2)'),\n",
        "        row=1, col=1\n",
        "    )\n",
        "\n",
        "    fig.update_layout(\n",
        "        height=800,\n",
        "        title_text=\"Advanced Performance Analysis\",\n",
        "        showlegend=True\n",
        "    )\n",
        "\n",
        "    # Update axis titles\n",
        "    fig.update_yaxes(title_text=\"Accuracy Gap\", row=1, col=1)\n",
        "    # fig.update_yaxes(title_text=\"Acc/Time\", row=1, col=2)\n",
        "    # fig.update_yaxes(title_text=\"Loss Reduction\", row=2, col=1)\n",
        "\n",
        "    return fig\n",
        "\n",
        "# Create and display performance insights\n",
        "performance_fig = create_performance_insights()\n",
        "performance_fig.show()"
      ]
    },
    {
      "cell_type": "code",
      "execution_count": 26,
      "id": "6a5e4a26",
      "metadata": {
        "colab": {
          "base_uri": "https://localhost:8080/",
          "height": 1000
        },
        "id": "6a5e4a26",
        "outputId": "39fbb1e8-9acf-4f3e-b5b9-faa9aeada4b4"
      },
      "outputs": [
        {
          "output_type": "display_data",
          "data": {
            "text/html": [
              "<html>\n",
              "<head><meta charset=\"utf-8\" /></head>\n",
              "<body>\n",
              "    <div>            <script src=\"https://cdnjs.cloudflare.com/ajax/libs/mathjax/2.7.5/MathJax.js?config=TeX-AMS-MML_SVG\"></script><script type=\"text/javascript\">if (window.MathJax && window.MathJax.Hub && window.MathJax.Hub.Config) {window.MathJax.Hub.Config({SVG: {font: \"STIX-Web\"}});}</script>                <script type=\"text/javascript\">window.PlotlyConfig = {MathJaxConfig: 'local'};</script>\n",
              "        <script charset=\"utf-8\" src=\"https://cdn.plot.ly/plotly-3.1.1.min.js\" integrity=\"sha256-HUEFyfiTnZJxCxur99FjbKYTvKSzwDaD3/x5TqHpFu4=\" crossorigin=\"anonymous\"></script>                <div id=\"a42fa03c-b0f0-4818-a38c-c174a03c6b08\" class=\"plotly-graph-div\" style=\"height:1000px; width:100%;\"></div>            <script type=\"text/javascript\">                window.PLOTLYENV=window.PLOTLYENV || {};                                if (document.getElementById(\"a42fa03c-b0f0-4818-a38c-c174a03c6b08\")) {                    Plotly.newPlot(                        \"a42fa03c-b0f0-4818-a38c-c174a03c6b08\",                        [{\"colorscale\":[[0.0,\"rgb(247,251,255)\"],[0.125,\"rgb(222,235,247)\"],[0.25,\"rgb(198,219,239)\"],[0.375,\"rgb(158,202,225)\"],[0.5,\"rgb(107,174,214)\"],[0.625,\"rgb(66,146,198)\"],[0.75,\"rgb(33,113,181)\"],[0.875,\"rgb(8,81,156)\"],[1.0,\"rgb(8,48,107)\"]],\"text\":{\"dtype\":\"i2\",\"bdata\":\"TQMTACMAAQADAAAAAAAFAEEAGwADALEDBAAAAAEAAAAAAAAACAAnADEACwBRAwcAGgAHAAQADwAYAAgAOgATAMIAjQEqAHAAEwApAD8ANwAcAAwAhgAHANUCCAAFADsADgAIAB8AEQDNABUAEwBbAgMARQAOABIADQAfAH0AFAAmABcAngIOACAAIgASAAoAQAACAAwABQAAAF0DBwAVABsAEAAJAAAAAAAAAAAAAgCkAw4ADQBTAAUAAAAAAAAAAAABACcAWwM=\",\"shape\":\"10, 10\"},\"texttemplate\":\"%{text}\",\"x\":[\"airplane\",\"automobile\",\"bird\",\"cat\",\"deer\",\"dog\",\"frog\",\"horse\",\"ship\",\"truck\"],\"y\":[\"airplane\",\"automobile\",\"bird\",\"cat\",\"deer\",\"dog\",\"frog\",\"horse\",\"ship\",\"truck\"],\"z\":{\"dtype\":\"i2\",\"bdata\":\"TQMTACMAAQADAAAAAAAFAEEAGwADALEDBAAAAAEAAAAAAAAACAAnADEACwBRAwcAGgAHAAQADwAYAAgAOgATAMIAjQEqAHAAEwApAD8ANwAcAAwAhgAHANUCCAAFADsADgAIAB8AEQDNABUAEwBbAgMARQAOABIADQAfAH0AFAAmABcAngIOACAAIgASAAoAQAACAAwABQAAAF0DBwAVABsAEAAJAAAAAAAAAAAAAgCkAw4ADQBTAAUAAAAAAAAAAAABACcAWwM=\",\"shape\":\"10, 10\"},\"type\":\"heatmap\",\"xaxis\":\"x\",\"yaxis\":\"y\"},{\"marker\":{\"color\":\"lightgreen\"},\"text\":[\"84.5%\",\"94.5%\",\"84.9%\",\"39.7%\",\"72.5%\",\"60.3%\",\"67.0%\",\"86.1%\",\"93.2%\",\"85.9%\"],\"textposition\":\"auto\",\"x\":[\"airplane\",\"automobile\",\"bird\",\"cat\",\"deer\",\"dog\",\"frog\",\"horse\",\"ship\",\"truck\"],\"y\":[84.5,94.5,84.9,39.7,72.5,60.3,67.0,86.1,93.2,85.9],\"type\":\"bar\",\"xaxis\":\"x2\",\"yaxis\":\"y2\"},{\"line\":{\"color\":\"red\"},\"name\":\"Train Loss\",\"x\":[1,2,3,4,5,1,2,3,4,5,6,7,8,9,10,11,12,13,14,15,16,17,18,19,20],\"y\":[1.3966068624708388,0.972591680208842,0.8138996900823381,0.7173175862100389,0.6481253109825982,0.60362919265959,0.5542090756098429,0.5201273525238037,0.48366496342553034,0.4559668711556329,0.42950219359927705,0.410296334777938,0.395251518758138,0.37836115650600854,0.3651320713818073,0.3427645736482408,0.34492547963460285,0.3376286684989929,0.3282891097916497,0.3183161119249132,0.31217474779023063,0.3037266748958164,0.2952282526228163,0.2996210789117548,0.2857681352853775],\"type\":\"scatter\",\"xaxis\":\"x3\",\"yaxis\":\"y3\"},{\"line\":{\"color\":\"blue\"},\"name\":\"Val Loss\",\"x\":[1,2,3,4,5,1,2,3,4,5,6,7,8,9,10,11,12,13,14,15,16,17,18,19,20],\"y\":[1.16960942401886,0.9873155637741089,0.7091292722702026,0.6800682538032532,0.6912616882324218,0.7368261642456054,0.6271655067443848,0.5834294357299805,0.679951402425766,0.5979644714355469,0.5939063961982727,0.5632772290706635,0.5704066603183746,0.6960741286277771,0.7258252748012542,0.6026268452644348,0.5509789314270019,0.8336139955997467,0.7766544528007507,0.8179782648086548,0.5479954277038575,0.5164180721282959,0.8089059620261192,0.6574209207057953,0.7065609624862671],\"type\":\"scatter\",\"xaxis\":\"x3\",\"yaxis\":\"y3\"},{\"fill\":\"toself\",\"name\":\"Model Performance\",\"r\":[77.88000000000001,67.3404324054718,39.59000774305716,87.61111111111111,0.0012485044077848553],\"theta\":[\"Final Val Accuracy\",\"Training Stability\",\"Convergence Speed\",\"Generalization\",\"Parameter Efficiency\"],\"type\":\"scatterpolar\",\"subplot\":\"polar\"}],                        {\"template\":{\"data\":{\"histogram2dcontour\":[{\"type\":\"histogram2dcontour\",\"colorbar\":{\"outlinewidth\":0,\"ticks\":\"\"},\"colorscale\":[[0.0,\"#0d0887\"],[0.1111111111111111,\"#46039f\"],[0.2222222222222222,\"#7201a8\"],[0.3333333333333333,\"#9c179e\"],[0.4444444444444444,\"#bd3786\"],[0.5555555555555556,\"#d8576b\"],[0.6666666666666666,\"#ed7953\"],[0.7777777777777778,\"#fb9f3a\"],[0.8888888888888888,\"#fdca26\"],[1.0,\"#f0f921\"]]}],\"choropleth\":[{\"type\":\"choropleth\",\"colorbar\":{\"outlinewidth\":0,\"ticks\":\"\"}}],\"histogram2d\":[{\"type\":\"histogram2d\",\"colorbar\":{\"outlinewidth\":0,\"ticks\":\"\"},\"colorscale\":[[0.0,\"#0d0887\"],[0.1111111111111111,\"#46039f\"],[0.2222222222222222,\"#7201a8\"],[0.3333333333333333,\"#9c179e\"],[0.4444444444444444,\"#bd3786\"],[0.5555555555555556,\"#d8576b\"],[0.6666666666666666,\"#ed7953\"],[0.7777777777777778,\"#fb9f3a\"],[0.8888888888888888,\"#fdca26\"],[1.0,\"#f0f921\"]]}],\"heatmap\":[{\"type\":\"heatmap\",\"colorbar\":{\"outlinewidth\":0,\"ticks\":\"\"},\"colorscale\":[[0.0,\"#0d0887\"],[0.1111111111111111,\"#46039f\"],[0.2222222222222222,\"#7201a8\"],[0.3333333333333333,\"#9c179e\"],[0.4444444444444444,\"#bd3786\"],[0.5555555555555556,\"#d8576b\"],[0.6666666666666666,\"#ed7953\"],[0.7777777777777778,\"#fb9f3a\"],[0.8888888888888888,\"#fdca26\"],[1.0,\"#f0f921\"]]}],\"contourcarpet\":[{\"type\":\"contourcarpet\",\"colorbar\":{\"outlinewidth\":0,\"ticks\":\"\"}}],\"contour\":[{\"type\":\"contour\",\"colorbar\":{\"outlinewidth\":0,\"ticks\":\"\"},\"colorscale\":[[0.0,\"#0d0887\"],[0.1111111111111111,\"#46039f\"],[0.2222222222222222,\"#7201a8\"],[0.3333333333333333,\"#9c179e\"],[0.4444444444444444,\"#bd3786\"],[0.5555555555555556,\"#d8576b\"],[0.6666666666666666,\"#ed7953\"],[0.7777777777777778,\"#fb9f3a\"],[0.8888888888888888,\"#fdca26\"],[1.0,\"#f0f921\"]]}],\"surface\":[{\"type\":\"surface\",\"colorbar\":{\"outlinewidth\":0,\"ticks\":\"\"},\"colorscale\":[[0.0,\"#0d0887\"],[0.1111111111111111,\"#46039f\"],[0.2222222222222222,\"#7201a8\"],[0.3333333333333333,\"#9c179e\"],[0.4444444444444444,\"#bd3786\"],[0.5555555555555556,\"#d8576b\"],[0.6666666666666666,\"#ed7953\"],[0.7777777777777778,\"#fb9f3a\"],[0.8888888888888888,\"#fdca26\"],[1.0,\"#f0f921\"]]}],\"mesh3d\":[{\"type\":\"mesh3d\",\"colorbar\":{\"outlinewidth\":0,\"ticks\":\"\"}}],\"scatter\":[{\"fillpattern\":{\"fillmode\":\"overlay\",\"size\":10,\"solidity\":0.2},\"type\":\"scatter\"}],\"parcoords\":[{\"type\":\"parcoords\",\"line\":{\"colorbar\":{\"outlinewidth\":0,\"ticks\":\"\"}}}],\"scatterpolargl\":[{\"type\":\"scatterpolargl\",\"marker\":{\"colorbar\":{\"outlinewidth\":0,\"ticks\":\"\"}}}],\"bar\":[{\"error_x\":{\"color\":\"#2a3f5f\"},\"error_y\":{\"color\":\"#2a3f5f\"},\"marker\":{\"line\":{\"color\":\"#E5ECF6\",\"width\":0.5},\"pattern\":{\"fillmode\":\"overlay\",\"size\":10,\"solidity\":0.2}},\"type\":\"bar\"}],\"scattergeo\":[{\"type\":\"scattergeo\",\"marker\":{\"colorbar\":{\"outlinewidth\":0,\"ticks\":\"\"}}}],\"scatterpolar\":[{\"type\":\"scatterpolar\",\"marker\":{\"colorbar\":{\"outlinewidth\":0,\"ticks\":\"\"}}}],\"histogram\":[{\"marker\":{\"pattern\":{\"fillmode\":\"overlay\",\"size\":10,\"solidity\":0.2}},\"type\":\"histogram\"}],\"scattergl\":[{\"type\":\"scattergl\",\"marker\":{\"colorbar\":{\"outlinewidth\":0,\"ticks\":\"\"}}}],\"scatter3d\":[{\"type\":\"scatter3d\",\"line\":{\"colorbar\":{\"outlinewidth\":0,\"ticks\":\"\"}},\"marker\":{\"colorbar\":{\"outlinewidth\":0,\"ticks\":\"\"}}}],\"scattermap\":[{\"type\":\"scattermap\",\"marker\":{\"colorbar\":{\"outlinewidth\":0,\"ticks\":\"\"}}}],\"scattermapbox\":[{\"type\":\"scattermapbox\",\"marker\":{\"colorbar\":{\"outlinewidth\":0,\"ticks\":\"\"}}}],\"scatterternary\":[{\"type\":\"scatterternary\",\"marker\":{\"colorbar\":{\"outlinewidth\":0,\"ticks\":\"\"}}}],\"scattercarpet\":[{\"type\":\"scattercarpet\",\"marker\":{\"colorbar\":{\"outlinewidth\":0,\"ticks\":\"\"}}}],\"carpet\":[{\"aaxis\":{\"endlinecolor\":\"#2a3f5f\",\"gridcolor\":\"white\",\"linecolor\":\"white\",\"minorgridcolor\":\"white\",\"startlinecolor\":\"#2a3f5f\"},\"baxis\":{\"endlinecolor\":\"#2a3f5f\",\"gridcolor\":\"white\",\"linecolor\":\"white\",\"minorgridcolor\":\"white\",\"startlinecolor\":\"#2a3f5f\"},\"type\":\"carpet\"}],\"table\":[{\"cells\":{\"fill\":{\"color\":\"#EBF0F8\"},\"line\":{\"color\":\"white\"}},\"header\":{\"fill\":{\"color\":\"#C8D4E3\"},\"line\":{\"color\":\"white\"}},\"type\":\"table\"}],\"barpolar\":[{\"marker\":{\"line\":{\"color\":\"#E5ECF6\",\"width\":0.5},\"pattern\":{\"fillmode\":\"overlay\",\"size\":10,\"solidity\":0.2}},\"type\":\"barpolar\"}],\"pie\":[{\"automargin\":true,\"type\":\"pie\"}]},\"layout\":{\"autotypenumbers\":\"strict\",\"colorway\":[\"#636efa\",\"#EF553B\",\"#00cc96\",\"#ab63fa\",\"#FFA15A\",\"#19d3f3\",\"#FF6692\",\"#B6E880\",\"#FF97FF\",\"#FECB52\"],\"font\":{\"color\":\"#2a3f5f\"},\"hovermode\":\"closest\",\"hoverlabel\":{\"align\":\"left\"},\"paper_bgcolor\":\"white\",\"plot_bgcolor\":\"#E5ECF6\",\"polar\":{\"bgcolor\":\"#E5ECF6\",\"angularaxis\":{\"gridcolor\":\"white\",\"linecolor\":\"white\",\"ticks\":\"\"},\"radialaxis\":{\"gridcolor\":\"white\",\"linecolor\":\"white\",\"ticks\":\"\"}},\"ternary\":{\"bgcolor\":\"#E5ECF6\",\"aaxis\":{\"gridcolor\":\"white\",\"linecolor\":\"white\",\"ticks\":\"\"},\"baxis\":{\"gridcolor\":\"white\",\"linecolor\":\"white\",\"ticks\":\"\"},\"caxis\":{\"gridcolor\":\"white\",\"linecolor\":\"white\",\"ticks\":\"\"}},\"coloraxis\":{\"colorbar\":{\"outlinewidth\":0,\"ticks\":\"\"}},\"colorscale\":{\"sequential\":[[0.0,\"#0d0887\"],[0.1111111111111111,\"#46039f\"],[0.2222222222222222,\"#7201a8\"],[0.3333333333333333,\"#9c179e\"],[0.4444444444444444,\"#bd3786\"],[0.5555555555555556,\"#d8576b\"],[0.6666666666666666,\"#ed7953\"],[0.7777777777777778,\"#fb9f3a\"],[0.8888888888888888,\"#fdca26\"],[1.0,\"#f0f921\"]],\"sequentialminus\":[[0.0,\"#0d0887\"],[0.1111111111111111,\"#46039f\"],[0.2222222222222222,\"#7201a8\"],[0.3333333333333333,\"#9c179e\"],[0.4444444444444444,\"#bd3786\"],[0.5555555555555556,\"#d8576b\"],[0.6666666666666666,\"#ed7953\"],[0.7777777777777778,\"#fb9f3a\"],[0.8888888888888888,\"#fdca26\"],[1.0,\"#f0f921\"]],\"diverging\":[[0,\"#8e0152\"],[0.1,\"#c51b7d\"],[0.2,\"#de77ae\"],[0.3,\"#f1b6da\"],[0.4,\"#fde0ef\"],[0.5,\"#f7f7f7\"],[0.6,\"#e6f5d0\"],[0.7,\"#b8e186\"],[0.8,\"#7fbc41\"],[0.9,\"#4d9221\"],[1,\"#276419\"]]},\"xaxis\":{\"gridcolor\":\"white\",\"linecolor\":\"white\",\"ticks\":\"\",\"title\":{\"standoff\":15},\"zerolinecolor\":\"white\",\"automargin\":true,\"zerolinewidth\":2},\"yaxis\":{\"gridcolor\":\"white\",\"linecolor\":\"white\",\"ticks\":\"\",\"title\":{\"standoff\":15},\"zerolinecolor\":\"white\",\"automargin\":true,\"zerolinewidth\":2},\"scene\":{\"xaxis\":{\"backgroundcolor\":\"#E5ECF6\",\"gridcolor\":\"white\",\"linecolor\":\"white\",\"showbackground\":true,\"ticks\":\"\",\"zerolinecolor\":\"white\",\"gridwidth\":2},\"yaxis\":{\"backgroundcolor\":\"#E5ECF6\",\"gridcolor\":\"white\",\"linecolor\":\"white\",\"showbackground\":true,\"ticks\":\"\",\"zerolinecolor\":\"white\",\"gridwidth\":2},\"zaxis\":{\"backgroundcolor\":\"#E5ECF6\",\"gridcolor\":\"white\",\"linecolor\":\"white\",\"showbackground\":true,\"ticks\":\"\",\"zerolinecolor\":\"white\",\"gridwidth\":2}},\"shapedefaults\":{\"line\":{\"color\":\"#2a3f5f\"}},\"annotationdefaults\":{\"arrowcolor\":\"#2a3f5f\",\"arrowhead\":0,\"arrowwidth\":1},\"geo\":{\"bgcolor\":\"white\",\"landcolor\":\"#E5ECF6\",\"subunitcolor\":\"white\",\"showland\":true,\"showlakes\":true,\"lakecolor\":\"white\"},\"title\":{\"x\":0.05},\"mapbox\":{\"style\":\"light\"}}},\"xaxis\":{\"anchor\":\"y\",\"domain\":[0.0,0.45]},\"yaxis\":{\"anchor\":\"x\",\"domain\":[0.625,1.0]},\"xaxis2\":{\"anchor\":\"y2\",\"domain\":[0.55,1.0]},\"yaxis2\":{\"anchor\":\"x2\",\"domain\":[0.625,1.0]},\"xaxis3\":{\"anchor\":\"y3\",\"domain\":[0.0,0.45]},\"yaxis3\":{\"anchor\":\"x3\",\"domain\":[0.0,0.375]},\"polar\":{\"domain\":{\"x\":[0.55,1.0],\"y\":[0.0,0.375]}},\"annotations\":[{\"font\":{\"size\":16},\"showarrow\":false,\"text\":\"Final Confusion Matrix\",\"x\":0.225,\"xanchor\":\"center\",\"xref\":\"paper\",\"y\":1.0,\"yanchor\":\"bottom\",\"yref\":\"paper\"},{\"font\":{\"size\":16},\"showarrow\":false,\"text\":\"Per-Class Accuracy\",\"x\":0.775,\"xanchor\":\"center\",\"xref\":\"paper\",\"y\":1.0,\"yanchor\":\"bottom\",\"yref\":\"paper\"},{\"font\":{\"size\":16},\"showarrow\":false,\"text\":\"Training Progress Summary\",\"x\":0.225,\"xanchor\":\"center\",\"xref\":\"paper\",\"y\":0.375,\"yanchor\":\"bottom\",\"yref\":\"paper\"},{\"font\":{\"size\":16},\"showarrow\":false,\"text\":\"Model Performance Radar\",\"x\":0.775,\"xanchor\":\"center\",\"xref\":\"paper\",\"y\":0.375,\"yanchor\":\"bottom\",\"yref\":\"paper\"}],\"title\":{\"text\":\"Final Model Evaluation Dashboard\"},\"height\":1000},                        {\"responsive\": true}                    ).then(function(){\n",
              "                            \n",
              "var gd = document.getElementById('a42fa03c-b0f0-4818-a38c-c174a03c6b08');\n",
              "var x = new MutationObserver(function (mutations, observer) {{\n",
              "        var display = window.getComputedStyle(gd).display;\n",
              "        if (!display || display === 'none') {{\n",
              "            console.log([gd, 'removed!']);\n",
              "            Plotly.purge(gd);\n",
              "            observer.disconnect();\n",
              "        }}\n",
              "}});\n",
              "\n",
              "// Listen for the removal of the full notebook cells\n",
              "var notebookContainer = gd.closest('#notebook-container');\n",
              "if (notebookContainer) {{\n",
              "    x.observe(notebookContainer, {childList: true});\n",
              "}}\n",
              "\n",
              "// Listen for the clearing of the current output cell\n",
              "var outputEl = gd.closest('.output');\n",
              "if (outputEl) {{\n",
              "    x.observe(outputEl, {childList: true});\n",
              "}}\n",
              "\n",
              "                        })                };            </script>        </div>\n",
              "</body>\n",
              "</html>"
            ]
          },
          "metadata": {}
        },
        {
          "output_type": "stream",
          "name": "stdout",
          "text": [
            "\n",
            "=== FINAL MODEL EVALUATION ===\n",
            "Overall Test Accuracy: 7686.00%\n",
            "\n",
            "Per-Class Accuracies:\n",
            "airplane    : 84.50%\n",
            "automobile  : 94.50%\n",
            "bird        : 84.90%\n",
            "cat         : 39.70%\n",
            "deer        : 72.50%\n",
            "dog         : 60.30%\n",
            "frog        : 67.00%\n",
            "horse       : 86.10%\n",
            "ship        : 93.20%\n",
            "truck       : 85.90%\n"
          ]
        }
      ],
      "source": [
        "# Final Model Evaluation and Visualization\n",
        "def evaluate_final_model():\n",
        "    \"\"\"Comprehensive final model evaluation\"\"\"\n",
        "\n",
        "    model.eval()\n",
        "    all_predictions = []\n",
        "    all_labels = []\n",
        "    class_correct = [0] * 10\n",
        "    class_total = [0] * 10\n",
        "\n",
        "    with torch.no_grad():\n",
        "        for images, labels in test_loader:\n",
        "            images = images.to(device)\n",
        "            labels = labels.to(device)\n",
        "            outputs = model(images)\n",
        "            _, predicted = torch.max(outputs, 1)\n",
        "\n",
        "            all_predictions.extend(predicted.cpu().numpy())\n",
        "            all_labels.extend(labels.cpu().numpy())\n",
        "\n",
        "            # Per-class accuracy\n",
        "            c = (predicted == labels).squeeze()\n",
        "            for i in range(labels.size(0)):\n",
        "                label = labels[i]\n",
        "                class_correct[label] += c[i].item()\n",
        "                class_total[label] += 1\n",
        "\n",
        "    # Calculate per-class accuracy\n",
        "    class_accuracies = [100 * class_correct[i] / class_total[i] if class_total[i] > 0 else 0\n",
        "                       for i in range(10)]\n",
        "\n",
        "    # Create final evaluation plots\n",
        "    fig = make_subplots(\n",
        "        rows=2, cols=2,\n",
        "        subplot_titles=('Final Confusion Matrix', 'Per-Class Accuracy',\n",
        "                       'Training Progress Summary', 'Model Performance Radar'),\n",
        "        specs=[[{\"type\": \"heatmap\"}, {\"type\": \"bar\"}],\n",
        "               [{\"type\": \"scatter\"}, {\"type\": \"scatterpolar\"}]]\n",
        "    )\n",
        "\n",
        "    # 1. Final Confusion Matrix\n",
        "    cm = confusion_matrix(all_labels, all_predictions)\n",
        "    fig.add_trace(\n",
        "        go.Heatmap(z=cm, x=class_names, y=class_names,\n",
        "                  colorscale='Blues', text=cm, texttemplate='%{text}'),\n",
        "        row=1, col=1\n",
        "    )\n",
        "\n",
        "    # 2. Per-Class Accuracy\n",
        "    fig.add_trace(\n",
        "        go.Bar(x=class_names, y=class_accuracies,\n",
        "               marker_color='lightgreen',\n",
        "               text=[f'{acc:.1f}%' for acc in class_accuracies],\n",
        "               textposition='auto'),\n",
        "        row=1, col=2\n",
        "    )\n",
        "\n",
        "    # 3. Training Progress Summary\n",
        "    fig.add_trace(\n",
        "        go.Scatter(x=training_metrics['epoch'], y=training_metrics['train_loss'],\n",
        "                  name='Train Loss', line=dict(color='red')),\n",
        "        row=2, col=1\n",
        "    )\n",
        "    fig.add_trace(\n",
        "        go.Scatter(x=training_metrics['epoch'], y=training_metrics['val_loss'],\n",
        "                  name='Val Loss', line=dict(color='blue')),\n",
        "        row=2, col=1\n",
        "    )\n",
        "\n",
        "    # 4. Model Performance Radar Chart\n",
        "    final_metrics = {\n",
        "        'Final Val Accuracy': training_metrics['val_acc'][-1] * 100,\n",
        "        'Training Stability': 100 - (max(training_metrics['val_loss']) - min(training_metrics['val_loss'])) * 50,\n",
        "        'Convergence Speed': (1 - training_metrics['val_loss'][-1] / training_metrics['val_loss'][0]) * 100,\n",
        "        'Generalization': 100 - abs(training_metrics['train_acc'][-1] - training_metrics['val_acc'][-1]) * 100,\n",
        "        'Parameter Efficiency': min(100, (training_metrics['val_acc'][-1] * 1000000) / total_param)\n",
        "    }\n",
        "\n",
        "    fig.add_trace(\n",
        "        go.Scatterpolar(r=list(final_metrics.values()),\n",
        "                       theta=list(final_metrics.keys()),\n",
        "                       fill='toself',\n",
        "                       name='Model Performance'),\n",
        "        row=2, col=2\n",
        "    )\n",
        "\n",
        "    fig.update_layout(\n",
        "        height=1000,\n",
        "        title_text=\"Final Model Evaluation Dashboard\"\n",
        "    )\n",
        "\n",
        "    return fig, class_accuracies\n",
        "\n",
        "# Create final evaluation\n",
        "final_fig, class_accs = evaluate_final_model()\n",
        "final_fig.show()\n",
        "\n",
        "# Print final statistics\n",
        "print(\"\\n=== FINAL MODEL EVALUATION ===\")\n",
        "print(f\"Overall Test Accuracy: {sum(class_accs) / len(class_accs):.2f}%\")\n",
        "print(\"\\nPer-Class Accuracies:\")\n",
        "for i, (class_name, acc) in enumerate(zip(class_names, class_accs)):\n",
        "    print(f\"{class_name:12}: {acc:.2f}%\")"
      ]
    },
    {
      "cell_type": "code",
      "execution_count": 27,
      "id": "cfd3a465",
      "metadata": {
        "colab": {
          "base_uri": "https://localhost:8080/"
        },
        "id": "cfd3a465",
        "outputId": "a12f0e89-75e5-4c14-8967-e10dcdf80c46"
      },
      "outputs": [
        {
          "output_type": "stream",
          "name": "stdout",
          "text": [
            "Training report saved to: alexnet_training_report_20251005_173134.json\n",
            "\n",
            "=== TRAINING COMPLETE ===\n",
            "TensorBoard logs: runs/alexnet_cifar10_20251005_160049\n",
            "Training report: alexnet_training_report_20251005_173134.json\n",
            "\n",
            "To view TensorBoard:\n",
            "tensorboard --logdir=runs/alexnet_cifar10_20251005_160049\n"
          ]
        }
      ],
      "source": [
        "# Save Training Results and Generate Report\n",
        "import json\n",
        "from datetime import datetime\n",
        "\n",
        "def save_training_report():\n",
        "    \"\"\"Save comprehensive training report\"\"\"\n",
        "\n",
        "    report = {\n",
        "        'model_info': {\n",
        "            'architecture': 'AlexNet',\n",
        "            'dataset': 'CIFAR-10',\n",
        "            'total_parameters': total_param,\n",
        "            # 'trainable_parameters': trainable_params\n",
        "        },\n",
        "        'training_config': {\n",
        "            'num_epochs': num_epochs,\n",
        "            'batch_size': batch_size,\n",
        "            'learning_rate': learning_rate,\n",
        "            'optimizer': 'SGD',\n",
        "            'momentum': 0.9,\n",
        "            'weight_decay': 0.005\n",
        "        },\n",
        "        'final_metrics': {\n",
        "            'final_train_accuracy': float(training_metrics['train_acc'][-1]),\n",
        "            'final_val_accuracy': float(training_metrics['val_acc'][-1]),\n",
        "            'final_train_loss': float(training_metrics['train_loss'][-1]),\n",
        "            'final_val_loss': float(training_metrics['val_loss'][-1]),\n",
        "            'best_val_accuracy': float(max(training_metrics['val_acc'])),\n",
        "            'best_val_epoch': int(training_metrics['val_acc'].index(max(training_metrics['val_acc'])) + 1)\n",
        "        },\n",
        "        'training_metrics': training_metrics,\n",
        "        'timestamp': datetime.now().isoformat()\n",
        "    }\n",
        "\n",
        "    # Save report\n",
        "    report_path = f\"alexnet_training_report_{datetime.now().strftime('%Y%m%d_%H%M%S')}.json\"\n",
        "    with open(report_path, 'w') as f:\n",
        "        json.dump(report, f, indent=2)\n",
        "\n",
        "    print(f\"Training report saved to: {report_path}\")\n",
        "    return report_path\n",
        "\n",
        "# Save the report\n",
        "report_path = save_training_report()\n",
        "\n",
        "print(\"\\n=== TRAINING COMPLETE ===\")\n",
        "print(f\"TensorBoard logs: {log_dir}\")\n",
        "print(f\"Training report: {report_path}\")\n",
        "print(\"\\nTo view TensorBoard:\")\n",
        "print(f\"tensorboard --logdir={log_dir}\")"
      ]
    },
    {
      "cell_type": "code",
      "source": [],
      "metadata": {
        "id": "_iEjVHTKegvB"
      },
      "id": "_iEjVHTKegvB",
      "execution_count": null,
      "outputs": []
    }
  ],
  "metadata": {
    "kernelspec": {
      "display_name": "Python 3",
      "name": "python3"
    },
    "language_info": {
      "codemirror_mode": {
        "name": "ipython",
        "version": 3
      },
      "file_extension": ".py",
      "mimetype": "text/x-python",
      "name": "python",
      "nbconvert_exporter": "python",
      "pygments_lexer": "ipython3",
      "version": "3.12.7"
    },
    "colab": {
      "provenance": [],
      "gpuType": "T4"
    },
    "accelerator": "GPU"
  },
  "nbformat": 4,
  "nbformat_minor": 5
}